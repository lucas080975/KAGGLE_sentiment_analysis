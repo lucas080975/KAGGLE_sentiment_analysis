{
 "cells": [
  {
   "cell_type": "markdown",
   "id": "85a0b686",
   "metadata": {},
   "source": [
    "# Dataset exploration and preprocessing"
   ]
  },
  {
   "cell_type": "code",
   "execution_count": 1,
   "id": "0525e757",
   "metadata": {},
   "outputs": [],
   "source": [
    "#import packages\n",
    "\n",
    "\n",
    "import time\n",
    "import re\n",
    "import logging\n",
    "import warnings\n",
    "import nltk\n",
    "import numpy as np \n",
    "import pandas as pd \n",
    "import seaborn as sns\n",
    "import matplotlib.pyplot as plt\n",
    "from collections import Counter\n",
    "from bs4 import BeautifulSoup\n",
    "from nltk.corpus import stopwords\n",
    "from nltk.tokenize import word_tokenize\n",
    "from nltk.tokenize import sent_tokenize\n",
    "from nltk.stem import WordNetLemmatizer \n",
    "from gensim.models import word2vec\n",
    "from gensim.parsing.preprocessing import remove_stopwords\n",
    "from sklearn.decomposition import PCA\n",
    "from sklearn.model_selection import train_test_split\n",
    "from sklearn.linear_model import LogisticRegression\n",
    "from sklearn.ensemble import RandomForestClassifier\n",
    "from sklearn.svm import LinearSVC\n",
    "from sklearn.svm import SVC"
   ]
  },
  {
   "cell_type": "code",
   "execution_count": 2,
   "id": "d2f93de2",
   "metadata": {},
   "outputs": [
    {
     "name": "stderr",
     "output_type": "stream",
     "text": [
      "[nltk_data] Downloading collection 'popular'\n",
      "[nltk_data]    | \n",
      "[nltk_data]    | Downloading package cmudict to\n",
      "[nltk_data]    |     C:\\Users\\Lucas\\AppData\\Roaming\\nltk_data...\n",
      "[nltk_data]    |   Package cmudict is already up-to-date!\n",
      "[nltk_data]    | Downloading package gazetteers to\n",
      "[nltk_data]    |     C:\\Users\\Lucas\\AppData\\Roaming\\nltk_data...\n",
      "[nltk_data]    |   Package gazetteers is already up-to-date!\n",
      "[nltk_data]    | Downloading package genesis to\n",
      "[nltk_data]    |     C:\\Users\\Lucas\\AppData\\Roaming\\nltk_data...\n",
      "[nltk_data]    |   Package genesis is already up-to-date!\n",
      "[nltk_data]    | Downloading package gutenberg to\n",
      "[nltk_data]    |     C:\\Users\\Lucas\\AppData\\Roaming\\nltk_data...\n",
      "[nltk_data]    |   Package gutenberg is already up-to-date!\n",
      "[nltk_data]    | Downloading package inaugural to\n",
      "[nltk_data]    |     C:\\Users\\Lucas\\AppData\\Roaming\\nltk_data...\n",
      "[nltk_data]    |   Package inaugural is already up-to-date!\n",
      "[nltk_data]    | Downloading package movie_reviews to\n",
      "[nltk_data]    |     C:\\Users\\Lucas\\AppData\\Roaming\\nltk_data...\n",
      "[nltk_data]    |   Package movie_reviews is already up-to-date!\n",
      "[nltk_data]    | Downloading package names to\n",
      "[nltk_data]    |     C:\\Users\\Lucas\\AppData\\Roaming\\nltk_data...\n",
      "[nltk_data]    |   Package names is already up-to-date!\n",
      "[nltk_data]    | Downloading package shakespeare to\n",
      "[nltk_data]    |     C:\\Users\\Lucas\\AppData\\Roaming\\nltk_data...\n",
      "[nltk_data]    |   Package shakespeare is already up-to-date!\n",
      "[nltk_data]    | Downloading package stopwords to\n",
      "[nltk_data]    |     C:\\Users\\Lucas\\AppData\\Roaming\\nltk_data...\n",
      "[nltk_data]    |   Package stopwords is already up-to-date!\n",
      "[nltk_data]    | Downloading package treebank to\n",
      "[nltk_data]    |     C:\\Users\\Lucas\\AppData\\Roaming\\nltk_data...\n",
      "[nltk_data]    |   Package treebank is already up-to-date!\n",
      "[nltk_data]    | Downloading package twitter_samples to\n",
      "[nltk_data]    |     C:\\Users\\Lucas\\AppData\\Roaming\\nltk_data...\n",
      "[nltk_data]    |   Package twitter_samples is already up-to-date!\n",
      "[nltk_data]    | Downloading package omw to\n",
      "[nltk_data]    |     C:\\Users\\Lucas\\AppData\\Roaming\\nltk_data...\n",
      "[nltk_data]    |   Package omw is already up-to-date!\n",
      "[nltk_data]    | Downloading package omw-1.4 to\n",
      "[nltk_data]    |     C:\\Users\\Lucas\\AppData\\Roaming\\nltk_data...\n",
      "[nltk_data]    |   Package omw-1.4 is already up-to-date!\n",
      "[nltk_data]    | Downloading package wordnet to\n",
      "[nltk_data]    |     C:\\Users\\Lucas\\AppData\\Roaming\\nltk_data...\n",
      "[nltk_data]    |   Package wordnet is already up-to-date!\n",
      "[nltk_data]    | Downloading package wordnet2021 to\n",
      "[nltk_data]    |     C:\\Users\\Lucas\\AppData\\Roaming\\nltk_data...\n",
      "[nltk_data]    |   Package wordnet2021 is already up-to-date!\n",
      "[nltk_data]    | Downloading package wordnet31 to\n",
      "[nltk_data]    |     C:\\Users\\Lucas\\AppData\\Roaming\\nltk_data...\n",
      "[nltk_data]    |   Package wordnet31 is already up-to-date!\n",
      "[nltk_data]    | Downloading package wordnet_ic to\n",
      "[nltk_data]    |     C:\\Users\\Lucas\\AppData\\Roaming\\nltk_data...\n",
      "[nltk_data]    |   Package wordnet_ic is already up-to-date!\n",
      "[nltk_data]    | Downloading package words to\n",
      "[nltk_data]    |     C:\\Users\\Lucas\\AppData\\Roaming\\nltk_data...\n",
      "[nltk_data]    |   Package words is already up-to-date!\n",
      "[nltk_data]    | Downloading package maxent_ne_chunker to\n",
      "[nltk_data]    |     C:\\Users\\Lucas\\AppData\\Roaming\\nltk_data...\n",
      "[nltk_data]    |   Package maxent_ne_chunker is already up-to-date!\n",
      "[nltk_data]    | Downloading package punkt to\n",
      "[nltk_data]    |     C:\\Users\\Lucas\\AppData\\Roaming\\nltk_data...\n",
      "[nltk_data]    |   Package punkt is already up-to-date!\n",
      "[nltk_data]    | Downloading package snowball_data to\n",
      "[nltk_data]    |     C:\\Users\\Lucas\\AppData\\Roaming\\nltk_data...\n",
      "[nltk_data]    |   Package snowball_data is already up-to-date!\n",
      "[nltk_data]    | Downloading package averaged_perceptron_tagger to\n",
      "[nltk_data]    |     C:\\Users\\Lucas\\AppData\\Roaming\\nltk_data...\n",
      "[nltk_data]    |   Package averaged_perceptron_tagger is already up-\n",
      "[nltk_data]    |       to-date!\n",
      "[nltk_data]    | \n",
      "[nltk_data]  Done downloading collection popular\n"
     ]
    }
   ],
   "source": [
    "nltk.download('popular')\n",
    "warnings.filterwarnings('ignore')"
   ]
  },
  {
   "cell_type": "markdown",
   "id": "96434c2e",
   "metadata": {},
   "source": [
    "## Exploring the dataset"
   ]
  },
  {
   "cell_type": "code",
   "execution_count": 3,
   "id": "218f2fb6",
   "metadata": {},
   "outputs": [],
   "source": [
    "path_train_data = 'labeledTrainData.tsv'\n",
    "\n",
    "df = pd.read_csv(path_train_data, delimiter = '\\t')"
   ]
  },
  {
   "cell_type": "code",
   "execution_count": 4,
   "id": "73f7d66d",
   "metadata": {
    "scrolled": true
   },
   "outputs": [
    {
     "data": {
      "text/html": [
       "<div>\n",
       "<style scoped>\n",
       "    .dataframe tbody tr th:only-of-type {\n",
       "        vertical-align: middle;\n",
       "    }\n",
       "\n",
       "    .dataframe tbody tr th {\n",
       "        vertical-align: top;\n",
       "    }\n",
       "\n",
       "    .dataframe thead th {\n",
       "        text-align: right;\n",
       "    }\n",
       "</style>\n",
       "<table border=\"1\" class=\"dataframe\">\n",
       "  <thead>\n",
       "    <tr style=\"text-align: right;\">\n",
       "      <th></th>\n",
       "      <th>id</th>\n",
       "      <th>sentiment</th>\n",
       "      <th>review</th>\n",
       "    </tr>\n",
       "  </thead>\n",
       "  <tbody>\n",
       "    <tr>\n",
       "      <th>0</th>\n",
       "      <td>5814_8</td>\n",
       "      <td>1</td>\n",
       "      <td>With all this stuff going down at the moment w...</td>\n",
       "    </tr>\n",
       "    <tr>\n",
       "      <th>1</th>\n",
       "      <td>2381_9</td>\n",
       "      <td>1</td>\n",
       "      <td>\\The Classic War of the Worlds\\\" by Timothy Hi...</td>\n",
       "    </tr>\n",
       "    <tr>\n",
       "      <th>2</th>\n",
       "      <td>7759_3</td>\n",
       "      <td>0</td>\n",
       "      <td>The film starts with a manager (Nicholas Bell)...</td>\n",
       "    </tr>\n",
       "    <tr>\n",
       "      <th>3</th>\n",
       "      <td>3630_4</td>\n",
       "      <td>0</td>\n",
       "      <td>It must be assumed that those who praised this...</td>\n",
       "    </tr>\n",
       "    <tr>\n",
       "      <th>4</th>\n",
       "      <td>9495_8</td>\n",
       "      <td>1</td>\n",
       "      <td>Superbly trashy and wondrously unpretentious 8...</td>\n",
       "    </tr>\n",
       "  </tbody>\n",
       "</table>\n",
       "</div>"
      ],
      "text/plain": [
       "       id  sentiment                                             review\n",
       "0  5814_8          1  With all this stuff going down at the moment w...\n",
       "1  2381_9          1  \\The Classic War of the Worlds\\\" by Timothy Hi...\n",
       "2  7759_3          0  The film starts with a manager (Nicholas Bell)...\n",
       "3  3630_4          0  It must be assumed that those who praised this...\n",
       "4  9495_8          1  Superbly trashy and wondrously unpretentious 8..."
      ]
     },
     "execution_count": 4,
     "metadata": {},
     "output_type": "execute_result"
    }
   ],
   "source": [
    "df.head()"
   ]
  },
  {
   "cell_type": "code",
   "execution_count": 5,
   "id": "880c0351",
   "metadata": {},
   "outputs": [
    {
     "data": {
      "text/plain": [
       "(25000, 3)"
      ]
     },
     "execution_count": 5,
     "metadata": {},
     "output_type": "execute_result"
    }
   ],
   "source": [
    "#Size of the training dataset\n",
    "\n",
    "df.shape"
   ]
  },
  {
   "cell_type": "code",
   "execution_count": 6,
   "id": "3e77b115",
   "metadata": {
    "scrolled": true
   },
   "outputs": [
    {
     "name": "stdout",
     "output_type": "stream",
     "text": [
      "Exemple d'une critique de film :\n",
      "\n",
      "With all this stuff going down at the moment with MJ i've started listening to his music, watching the odd documentary here and there, watched The Wiz and watched Moonwalker again. Maybe i just want to get a certain insight into this guy who i thought was really cool in the eighties just to maybe make up my mind whether he is guilty or innocent. Moonwalker is part biography, part feature film which i remember going to see at the cinema when it was originally released. Some of it has subtle messages about MJ's feeling towards the press and also the obvious message of drugs are bad m'kay.<br /><br />Visually impressive but of course this is all about Michael Jackson so unless you remotely like MJ in anyway then you are going to hate this and find it boring. Some may call MJ an egotist for consenting to the making of this movie BUT MJ and most of his fans would say that he made it for the fans which if true is really nice of him.<br /><br />The actual feature film bit when it finally starts is only on for 20 minutes or so excluding the Smooth Criminal sequence and Joe Pesci is convincing as a psychopathic all powerful drug lord. Why he wants MJ dead so bad is beyond me. Because MJ overheard his plans? Nah, Joe Pesci's character ranted that he wanted people to know it is he who is supplying drugs etc so i dunno, maybe he just hates MJ's music.<br /><br />Lots of cool things in this like MJ turning into a car and a robot and the whole Speed Demon sequence. Also, the director must have had the patience of a saint when it came to filming the kiddy Bad sequence as usually directors hate working with one kid let alone a whole bunch of them performing a complex dance scene.<br /><br />Bottom line, this movie is for people who like MJ on one level or another (which i think is most people). If not, then stay away. It does try and give off a wholesome message and ironically MJ's bestest buddy in this movie is a girl! Michael Jackson is truly one of the most talented people ever to grace this planet but is he guilty? Well, with all the attention i've gave this subject....hmmm well i don't know because people can be different behind closed doors, i know this for a fact. He is either an extremely nice but stupid guy or one of the most sickest liars. I hope he is not the latter.\n",
      "\n",
      "label de cette critique :1 \n",
      "\n",
      "Rappel : 1 = positif, 0 = négatif\n"
     ]
    }
   ],
   "source": [
    "#Exemple d'une critique de film\n",
    "\n",
    "print('Exemple d\\'une critique de film :\\n')\n",
    "print(df['review'][0])\n",
    "sent = df['sentiment'][0]\n",
    "print(f'\\nlabel de cette critique :{sent} \\n\\nRappel : 1 = positif, 0 = négatif')"
   ]
  },
  {
   "cell_type": "code",
   "execution_count": 7,
   "id": "377a0547",
   "metadata": {
    "scrolled": true
   },
   "outputs": [
    {
     "name": "stdout",
     "output_type": "stream",
     "text": [
      "2302\n"
     ]
    }
   ],
   "source": [
    "print(len(df['review'][0]))"
   ]
  },
  {
   "cell_type": "code",
   "execution_count": 8,
   "id": "ced7d3bb",
   "metadata": {},
   "outputs": [],
   "source": [
    "df_copy = df.copy()\n",
    "\n",
    "df_copy['lenght'] = df['review']"
   ]
  },
  {
   "cell_type": "code",
   "execution_count": 9,
   "id": "3ae1aaf6",
   "metadata": {
    "scrolled": true
   },
   "outputs": [
    {
     "data": {
      "text/html": [
       "<div>\n",
       "<style scoped>\n",
       "    .dataframe tbody tr th:only-of-type {\n",
       "        vertical-align: middle;\n",
       "    }\n",
       "\n",
       "    .dataframe tbody tr th {\n",
       "        vertical-align: top;\n",
       "    }\n",
       "\n",
       "    .dataframe thead th {\n",
       "        text-align: right;\n",
       "    }\n",
       "</style>\n",
       "<table border=\"1\" class=\"dataframe\">\n",
       "  <thead>\n",
       "    <tr style=\"text-align: right;\">\n",
       "      <th></th>\n",
       "      <th>id</th>\n",
       "      <th>sentiment</th>\n",
       "      <th>review</th>\n",
       "      <th>lenght</th>\n",
       "    </tr>\n",
       "  </thead>\n",
       "  <tbody>\n",
       "    <tr>\n",
       "      <th>0</th>\n",
       "      <td>5814_8</td>\n",
       "      <td>1</td>\n",
       "      <td>With all this stuff going down at the moment w...</td>\n",
       "      <td>2302</td>\n",
       "    </tr>\n",
       "    <tr>\n",
       "      <th>1</th>\n",
       "      <td>2381_9</td>\n",
       "      <td>1</td>\n",
       "      <td>\\The Classic War of the Worlds\\\" by Timothy Hi...</td>\n",
       "      <td>946</td>\n",
       "    </tr>\n",
       "    <tr>\n",
       "      <th>2</th>\n",
       "      <td>7759_3</td>\n",
       "      <td>0</td>\n",
       "      <td>The film starts with a manager (Nicholas Bell)...</td>\n",
       "      <td>2449</td>\n",
       "    </tr>\n",
       "    <tr>\n",
       "      <th>3</th>\n",
       "      <td>3630_4</td>\n",
       "      <td>0</td>\n",
       "      <td>It must be assumed that those who praised this...</td>\n",
       "      <td>2245</td>\n",
       "    </tr>\n",
       "    <tr>\n",
       "      <th>4</th>\n",
       "      <td>9495_8</td>\n",
       "      <td>1</td>\n",
       "      <td>Superbly trashy and wondrously unpretentious 8...</td>\n",
       "      <td>2231</td>\n",
       "    </tr>\n",
       "  </tbody>\n",
       "</table>\n",
       "</div>"
      ],
      "text/plain": [
       "       id  sentiment                                             review  \\\n",
       "0  5814_8          1  With all this stuff going down at the moment w...   \n",
       "1  2381_9          1  \\The Classic War of the Worlds\\\" by Timothy Hi...   \n",
       "2  7759_3          0  The film starts with a manager (Nicholas Bell)...   \n",
       "3  3630_4          0  It must be assumed that those who praised this...   \n",
       "4  9495_8          1  Superbly trashy and wondrously unpretentious 8...   \n",
       "\n",
       "   lenght  \n",
       "0    2302  \n",
       "1     946  \n",
       "2    2449  \n",
       "3    2245  \n",
       "4    2231  "
      ]
     },
     "execution_count": 9,
     "metadata": {},
     "output_type": "execute_result"
    }
   ],
   "source": [
    "df_copy['lenght'] = df_copy['lenght'].apply(lambda x : len(x))\n",
    "df_copy.head()"
   ]
  },
  {
   "cell_type": "code",
   "execution_count": 10,
   "id": "2d7a0bcc",
   "metadata": {},
   "outputs": [],
   "source": [
    "#uniformisation des légendes matplotblib\n",
    "\n",
    "font_title = {'color':  'steelblue',\n",
    "        'weight': 'normal',\n",
    "        'size': 16}\n",
    "\n",
    "font_label = {'color':  'darkslategray',\n",
    "        'weight': 'normal',\n",
    "        'size': 12}"
   ]
  },
  {
   "cell_type": "code",
   "execution_count": 13,
   "id": "1aeea838",
   "metadata": {
    "scrolled": false
   },
   "outputs": [
    {
     "data": {
      "image/png": "[encoded data removed]",
      "text/plain": [
       "<Figure size 1152x648 with 1 Axes>"
      ]
     },
     "metadata": {
      "needs_background": "light"
     },
     "output_type": "display_data"
    }
   ],
   "source": [
    "fig = plt.figure(1, figsize=(16, 9))\n",
    "\n",
    "cm = plt.cm.get_cmap('Accent')\n",
    "\n",
    "n, bins, patches = plt.hist(df_copy['lenght'],bins = 50)\n",
    "bin_centers = 0.5 * (bins[:-1] + bins[1:])\n",
    "\n",
    "\n",
    "for i, p in enumerate(patches):\n",
    "    plt.setp(p, 'facecolor', cm(i/25)) \n",
    "plt.title('Distribution de la longueur des critiques\\\n",
    "(en mots) sur le dataset d\\'entraînement', \n",
    "          fontdict = font_title)\n",
    "\n",
    "plt.xlabel('longueur des critiques en mots', fontdict = font_label)\n",
    "plt.ylabel('Nombres de critiques', fontdict = font_label)\n",
    "\n",
    "plt.show()\n",
    "\n"
   ]
  },
  {
   "cell_type": "code",
   "execution_count": 14,
   "id": "c998d297",
   "metadata": {
    "scrolled": false
   },
   "outputs": [
    {
     "data": {
      "image/png": "[encoded data removed]",
      "text/plain": [
       "<Figure size 1152x648 with 1 Axes>"
      ]
     },
     "metadata": {},
     "output_type": "display_data"
    }
   ],
   "source": [
    "#Répartition des labels \n",
    "nb_donnees = 25000\n",
    "x = [np.sum(df['sentiment']),nb_donnees - np.sum(df['sentiment'])]\n",
    "labels = ['critique positive', 'critique négative' ]\n",
    "colors = ['seagreen', 'firebrick']\n",
    "plt.figure(1, figsize = (16,9))\n",
    "\n",
    "plt.pie(x, labels=labels, autopct='%1.1f%%',\n",
    "        shadow=True, startangle=90, colors = colors)\n",
    "plt.title(f'Répartition des critiques de films positives \\\n",
    "et négatives pour {nb_donnees} critiques', fontdict = font_title)\n",
    "plt.show()"
   ]
  },
  {
   "cell_type": "code",
   "execution_count": 15,
   "id": "74e67191",
   "metadata": {
    "scrolled": false
   },
   "outputs": [
    {
     "data": {
      "text/plain": [
       "Text(0, 0.5, 'Densité')"
      ]
     },
     "execution_count": 15,
     "metadata": {},
     "output_type": "execute_result"
    },
    {
     "data": {
      "image/png": "[encoded data removed]",
      "text/plain": [
       "<Figure size 1152x648 with 1 Axes>"
      ]
     },
     "metadata": {
      "needs_background": "light"
     },
     "output_type": "display_data"
    }
   ],
   "source": [
    "plt.figure(1, figsize=(16,9))\n",
    "\n",
    "sns.kdeplot(df_copy[df_copy['sentiment']==0]['lenght'],color='firebrick')\n",
    "sns.kdeplot(df_copy[df_copy['sentiment']==1]['lenght'],color='seagreen')\n",
    "plt.legend(['critique négative','critique positive'])\n",
    "plt.title('Répatition des longueurs des critiques en\\\n",
    "fonction de leur labélisation', fontdict = font_title)\n",
    "plt.xlabel('longueur des critiques en mots', fontdict = font_label)\n",
    "plt.ylabel('Densité', fontdict = font_label)"
   ]
  },
  {
   "cell_type": "markdown",
   "id": "324c2b64",
   "metadata": {},
   "source": [
    "## Preprocessing"
   ]
  },
  {
   "cell_type": "code",
   "execution_count": 16,
   "id": "d3135909",
   "metadata": {},
   "outputs": [
    {
     "data": {
      "text/plain": [
       "\"This movie could have been very good, but comes up way short. Cheesy special effects and so-so acting. I could have looked past that if the story wasn't so lousy. If there was more of a background story, it would have been better. The plot centers around an evil Druid witch who is linked to this woman who gets migraines. The movie drags on and on and never clearly explains anything, it just keeps plodding on. Christopher Walken has a part, but it is completely senseless, as is most of the movie. This movie had potential, but it looks like some really bad made for TV movie. I would avoid this movie.\""
      ]
     },
     "execution_count": 16,
     "metadata": {},
     "output_type": "execute_result"
    }
   ],
   "source": [
    "j = 6\n",
    "\n",
    "df['review'][j]"
   ]
  },
  {
   "cell_type": "markdown",
   "id": "059ee591",
   "metadata": {},
   "source": [
    "### suppression des balises HTML"
   ]
  },
  {
   "cell_type": "code",
   "execution_count": 17,
   "id": "c3cdc285",
   "metadata": {
    "scrolled": true
   },
   "outputs": [
    {
     "data": {
      "text/plain": [
       "\"This movie could have been very good, but comes up way short. Cheesy special effects and so-so acting. I could have looked past that if the story wasn't so lousy. If there was more of a background story, it would have been better. The plot centers around an evil Druid witch who is linked to this woman who gets migraines. The movie drags on and on and never clearly explains anything, it just keeps plodding on. Christopher Walken has a part, but it is completely senseless, as is most of the movie. This movie had potential, but it looks like some really bad made for TV movie. I would avoid this movie.\""
      ]
     },
     "execution_count": 17,
     "metadata": {},
     "output_type": "execute_result"
    }
   ],
   "source": [
    "#Suppression des balises HTML \n",
    "'''\n",
    "remove_balise_html(html_doc, parser = 'html.parser')\n",
    "remove html balises on an str file\n",
    "args : \n",
    "    - html_doc = html document to clean\n",
    "    - parser\n",
    "'''\n",
    "\n",
    "\n",
    "def remove_balise_html(html_doc,parser='html.parser'):\n",
    "    cleantext = BeautifulSoup(html_doc, parser).text\n",
    "    return cleantext\n",
    "\n",
    "df['review'] = df['review'].apply(remove_balise_html)\n",
    "df['review'][j]"
   ]
  },
  {
   "cell_type": "markdown",
   "id": "da289196",
   "metadata": {},
   "source": [
    "### Stopwords"
   ]
  },
  {
   "cell_type": "code",
   "execution_count": 18,
   "id": "540ae340",
   "metadata": {},
   "outputs": [
    {
     "data": {
      "text/plain": [
       "\"This movie good, comes way short. Cheesy special effects so-so acting. I looked past story wasn't lousy. If background story, better. The plot centers evil Druid witch linked woman gets migraines. The movie drags clearly explains anything, keeps plodding on. Christopher Walken part, completely senseless, movie. This movie potential, looks like bad TV movie. I avoid movie.\""
      ]
     },
     "execution_count": 18,
     "metadata": {},
     "output_type": "execute_result"
    }
   ],
   "source": [
    "df['review'] = df['review'].apply(lambda row : remove_stopwords(row))\n",
    "df['review'][j]"
   ]
  },
  {
   "cell_type": "markdown",
   "id": "c946bf95",
   "metadata": {},
   "source": [
    "### Tokenization"
   ]
  },
  {
   "cell_type": "code",
   "execution_count": 20,
   "id": "c0e39d73",
   "metadata": {},
   "outputs": [
    {
     "name": "stdout",
     "output_type": "stream",
     "text": [
      "['This', 'movie', 'good', ',', 'comes', 'way', 'short', '.', 'Cheesy', 'special', 'effects', 'so-so', 'acting', '.', 'I', 'looked', 'past', 'story', 'was', \"n't\", 'lousy', '.', 'If', 'background', 'story', ',', 'better', '.', 'The', 'plot', 'centers', 'evil', 'Druid', 'witch', 'linked', 'woman', 'gets', 'migraines', '.', 'The', 'movie', 'drags', 'clearly', 'explains', 'anything', ',', 'keeps', 'plodding', 'on', '.', 'Christopher', 'Walken', 'part', ',', 'completely', 'senseless', ',', 'movie', '.', 'This', 'movie', 'potential', ',', 'looks', 'like', 'bad', 'TV', 'movie', '.', 'I', 'avoid', 'movie', '.']\n"
     ]
    }
   ],
   "source": [
    "df['review'] = df['review'].apply(word_tokenize)\n",
    "\n",
    "print(df['review'][j])"
   ]
  },
  {
   "cell_type": "markdown",
   "id": "a62368d0",
   "metadata": {},
   "source": [
    "### Normalisation"
   ]
  },
  {
   "cell_type": "code",
   "execution_count": 21,
   "id": "7b78fc49",
   "metadata": {},
   "outputs": [],
   "source": [
    "'''\n",
    "function to clean a list containing the words of the sentence.\n",
    "- Replace capitals letters\n",
    "- remove punctuation\n",
    "- remove digits\n",
    "\n",
    "arg : \n",
    "    t : a list of strings \n",
    "'''\n",
    "\n",
    "\n",
    "def clean_txt(t):\n",
    "    \n",
    "    for i in range(len(t)) :\n",
    "        \n",
    "        t[i] = t[i].lower()\n",
    "        t[i] = re.sub(r'[^\\w\\s]','',t[i])\n",
    "        t[i] = ''.join([j for j in t[i] if not j.isdigit()])\n",
    "        \n",
    "    return t "
   ]
  },
  {
   "cell_type": "code",
   "execution_count": 22,
   "id": "8bb8ffcc",
   "metadata": {},
   "outputs": [],
   "source": [
    "df['review'] = df['review'].apply(lambda row : clean_txt(row))\n",
    "\n",
    "df['review'] = df['review'].apply(lambda row : list(filter(None,row))) #retrait des éléments vides"
   ]
  },
  {
   "cell_type": "code",
   "execution_count": 23,
   "id": "63bfa43c",
   "metadata": {
    "scrolled": true
   },
   "outputs": [
    {
     "name": "stdout",
     "output_type": "stream",
     "text": [
      "['this', 'movie', 'good', 'comes', 'way', 'short', 'cheesy', 'special', 'effects', 'soso', 'acting', 'i', 'looked', 'past', 'story', 'was', 'nt', 'lousy', 'if', 'background', 'story', 'better', 'the', 'plot', 'centers', 'evil', 'druid', 'witch', 'linked', 'woman', 'gets', 'migraines', 'the', 'movie', 'drags', 'clearly', 'explains', 'anything', 'keeps', 'plodding', 'on', 'christopher', 'walken', 'part', 'completely', 'senseless', 'movie', 'this', 'movie', 'potential', 'looks', 'like', 'bad', 'tv', 'movie', 'i', 'avoid', 'movie']\n"
     ]
    }
   ],
   "source": [
    "print(df['review'][j])"
   ]
  },
  {
   "cell_type": "markdown",
   "id": "9ae38b90",
   "metadata": {},
   "source": [
    "### Lemmatization"
   ]
  },
  {
   "cell_type": "code",
   "execution_count": 27,
   "id": "2f95f496",
   "metadata": {},
   "outputs": [],
   "source": [
    "lemmatizer = WordNetLemmatizer()"
   ]
  },
  {
   "cell_type": "code",
   "execution_count": 28,
   "id": "7439f92e",
   "metadata": {},
   "outputs": [],
   "source": [
    "\n",
    "df_final = df['review'].apply(lambda row : ' '.join([lemmatizer.lemmatize(w) for w in row]))\n",
    "df_final = df_final.apply(lambda row : row.split())"
   ]
  },
  {
   "cell_type": "code",
   "execution_count": 29,
   "id": "618fae34",
   "metadata": {
    "scrolled": true
   },
   "outputs": [
    {
     "name": "stdout",
     "output_type": "stream",
     "text": [
      "['this', 'movie', 'good', 'comes', 'way', 'short', 'cheesy', 'special', 'effects', 'soso', 'acting', 'i', 'looked', 'past', 'story', 'was', 'nt', 'lousy', 'if', 'background', 'story', 'better', 'the', 'plot', 'centers', 'evil', 'druid', 'witch', 'linked', 'woman', 'gets', 'migraines', 'the', 'movie', 'drags', 'clearly', 'explains', 'anything', 'keeps', 'plodding', 'on', 'christopher', 'walken', 'part', 'completely', 'senseless', 'movie', 'this', 'movie', 'potential', 'looks', 'like', 'bad', 'tv', 'movie', 'i', 'avoid', 'movie']\n",
      "\n",
      "\n",
      "['this', 'movie', 'good', 'come', 'way', 'short', 'cheesy', 'special', 'effect', 'soso', 'acting', 'i', 'looked', 'past', 'story', 'wa', 'nt', 'lousy', 'if', 'background', 'story', 'better', 'the', 'plot', 'center', 'evil', 'druid', 'witch', 'linked', 'woman', 'get', 'migraine', 'the', 'movie', 'drag', 'clearly', 'explains', 'anything', 'keep', 'plodding', 'on', 'christopher', 'walken', 'part', 'completely', 'senseless', 'movie', 'this', 'movie', 'potential', 'look', 'like', 'bad', 'tv', 'movie', 'i', 'avoid', 'movie']\n"
     ]
    }
   ],
   "source": [
    "d = 6\n",
    "\n",
    "print(df['review'][d])\n",
    "print('\\n')\n",
    "print(df_final[d])"
   ]
  },
  {
   "cell_type": "code",
   "execution_count": 30,
   "id": "5828baa8",
   "metadata": {},
   "outputs": [],
   "source": [
    "df['review'] = df_final"
   ]
  },
  {
   "cell_type": "code",
   "execution_count": 31,
   "id": "9b274cb9",
   "metadata": {
    "scrolled": true
   },
   "outputs": [
    {
     "data": {
      "text/plain": [
       "list"
      ]
     },
     "execution_count": 31,
     "metadata": {},
     "output_type": "execute_result"
    }
   ],
   "source": [
    "type(df['review'][0])"
   ]
  },
  {
   "cell_type": "markdown",
   "id": "d139c13f",
   "metadata": {},
   "source": [
    "### Export final dataset for training"
   ]
  },
  {
   "cell_type": "markdown",
   "id": "a0e5f473",
   "metadata": {},
   "source": [
    "# Word2Vec"
   ]
  },
  {
   "cell_type": "code",
   "execution_count": 33,
   "id": "40d9f7c0",
   "metadata": {},
   "outputs": [],
   "source": [
    "logging.basicConfig(format='%(asctime)s : %(levelname)s : %(message)s',\\\n",
    "    level=logging.INFO)\n",
    "\n",
    "# Set values for various parameters\n",
    "num_features = 300    # Word vector dimensionality                      \n",
    "min_word_count = 40  # Minimum word count                        \n",
    "num_workers = 4       # Number of threads to run in parallel\n",
    "context = 10          # Context window size                                                                                    \n",
    "downsampling = 1e-3   # Downsample setting for frequent words"
   ]
  },
  {
   "cell_type": "code",
   "execution_count": 34,
   "id": "0abe3821",
   "metadata": {},
   "outputs": [],
   "source": [
    "X = df['review']\n",
    "Y = df['sentiment']"
   ]
  },
  {
   "cell_type": "code",
   "execution_count": 35,
   "id": "c24f7afb",
   "metadata": {},
   "outputs": [
    {
     "name": "stderr",
     "output_type": "stream",
     "text": [
      "2022-06-20 22:20:53,978 : INFO : collecting all words and their counts\n",
      "2022-06-20 22:20:53,979 : INFO : PROGRESS: at sentence #0, processed 0 words, keeping 0 word types\n"
     ]
    },
    {
     "name": "stdout",
     "output_type": "stream",
     "text": [
      "Training model...\n"
     ]
    },
    {
     "name": "stderr",
     "output_type": "stream",
     "text": [
      "2022-06-20 22:20:54,687 : INFO : PROGRESS: at sentence #10000, processed 1269322 words, keeping 65952 word types\n",
      "2022-06-20 22:20:55,287 : INFO : PROGRESS: at sentence #20000, processed 2524132 words, keeping 97460 word types\n",
      "2022-06-20 22:20:55,568 : INFO : collected 111250 word types from a corpus of 3147222 raw words and 25000 sentences\n",
      "2022-06-20 22:20:55,568 : INFO : Creating a fresh vocabulary\n",
      "2022-06-20 22:20:55,703 : INFO : Word2Vec lifecycle event {'msg': 'effective_min_count=40 retains 7530 unique words (6.77% of original 111250, drops 103720)', 'datetime': '2022-06-20T22:20:55.703641', 'gensim': '4.2.0', 'python': '3.9.13 (tags/v3.9.13:6de2ca5, May 17 2022, 16:36:42) [MSC v.1929 64 bit (AMD64)]', 'platform': 'Windows-10-10.0.19044-SP0', 'event': 'prepare_vocab'}\n",
      "2022-06-20 22:20:55,703 : INFO : Word2Vec lifecycle event {'msg': 'effective_min_count=40 leaves 2764985 word corpus (87.85% of original 3147222, drops 382237)', 'datetime': '2022-06-20T22:20:55.703641', 'gensim': '4.2.0', 'python': '3.9.13 (tags/v3.9.13:6de2ca5, May 17 2022, 16:36:42) [MSC v.1929 64 bit (AMD64)]', 'platform': 'Windows-10-10.0.19044-SP0', 'event': 'prepare_vocab'}\n",
      "2022-06-20 22:20:55,841 : INFO : deleting the raw counts dictionary of 111250 items\n",
      "2022-06-20 22:20:55,845 : INFO : sample=0.001 downsamples 29 most-common words\n",
      "2022-06-20 22:20:55,845 : INFO : Word2Vec lifecycle event {'msg': 'downsampling leaves estimated 2454446.6056650095 word corpus (88.8%% of prior 2764985)', 'datetime': '2022-06-20T22:20:55.845381', 'gensim': '4.2.0', 'python': '3.9.13 (tags/v3.9.13:6de2ca5, May 17 2022, 16:36:42) [MSC v.1929 64 bit (AMD64)]', 'platform': 'Windows-10-10.0.19044-SP0', 'event': 'prepare_vocab'}\n",
      "2022-06-20 22:20:56,047 : INFO : estimated required memory for 7530 words and 300 dimensions: 21837000 bytes\n",
      "2022-06-20 22:20:56,047 : INFO : resetting layer weights\n",
      "2022-06-20 22:20:56,104 : INFO : Word2Vec lifecycle event {'update': False, 'trim_rule': 'None', 'datetime': '2022-06-20T22:20:56.104944', 'gensim': '4.2.0', 'python': '3.9.13 (tags/v3.9.13:6de2ca5, May 17 2022, 16:36:42) [MSC v.1929 64 bit (AMD64)]', 'platform': 'Windows-10-10.0.19044-SP0', 'event': 'build_vocab'}\n",
      "2022-06-20 22:20:56,105 : INFO : Word2Vec lifecycle event {'msg': 'training model with 4 workers on 7530 vocabulary and 300 features, using sg=1 hs=0 sample=0.001 negative=5 window=10 shrink_windows=True', 'datetime': '2022-06-20T22:20:56.105943', 'gensim': '4.2.0', 'python': '3.9.13 (tags/v3.9.13:6de2ca5, May 17 2022, 16:36:42) [MSC v.1929 64 bit (AMD64)]', 'platform': 'Windows-10-10.0.19044-SP0', 'event': 'train'}\n",
      "2022-06-20 22:20:57,152 : INFO : EPOCH 0 - PROGRESS: at 1.56% examples, 36864 words/s, in_qsize 8, out_qsize 0\n",
      "2022-06-20 22:20:58,274 : INFO : EPOCH 0 - PROGRESS: at 5.36% examples, 60519 words/s, in_qsize 8, out_qsize 0\n",
      "2022-06-20 22:20:59,320 : INFO : EPOCH 0 - PROGRESS: at 9.02% examples, 69621 words/s, in_qsize 7, out_qsize 0\n",
      "2022-06-20 22:21:00,383 : INFO : EPOCH 0 - PROGRESS: at 12.76% examples, 73819 words/s, in_qsize 7, out_qsize 0\n",
      "2022-06-20 22:21:01,686 : INFO : EPOCH 0 - PROGRESS: at 16.34% examples, 73158 words/s, in_qsize 8, out_qsize 0\n",
      "2022-06-20 22:21:02,756 : INFO : EPOCH 0 - PROGRESS: at 20.06% examples, 75239 words/s, in_qsize 8, out_qsize 0\n",
      "2022-06-20 22:21:03,796 : INFO : EPOCH 0 - PROGRESS: at 23.90% examples, 76992 words/s, in_qsize 8, out_qsize 0\n",
      "2022-06-20 22:21:04,893 : INFO : EPOCH 0 - PROGRESS: at 27.61% examples, 78073 words/s, in_qsize 7, out_qsize 0\n",
      "2022-06-20 22:21:06,096 : INFO : EPOCH 0 - PROGRESS: at 31.45% examples, 77941 words/s, in_qsize 7, out_qsize 0\n",
      "2022-06-20 22:21:07,194 : INFO : EPOCH 0 - PROGRESS: at 34.83% examples, 77836 words/s, in_qsize 7, out_qsize 0\n",
      "2022-06-20 22:21:08,209 : INFO : EPOCH 0 - PROGRESS: at 37.95% examples, 77780 words/s, in_qsize 7, out_qsize 0\n",
      "2022-06-20 22:21:09,363 : INFO : EPOCH 0 - PROGRESS: at 41.46% examples, 77434 words/s, in_qsize 7, out_qsize 0\n",
      "2022-06-20 22:21:10,400 : INFO : EPOCH 0 - PROGRESS: at 44.97% examples, 77741 words/s, in_qsize 8, out_qsize 0\n",
      "2022-06-20 22:21:11,457 : INFO : EPOCH 0 - PROGRESS: at 47.77% examples, 76918 words/s, in_qsize 7, out_qsize 0\n",
      "2022-06-20 22:21:12,539 : INFO : EPOCH 0 - PROGRESS: at 51.46% examples, 77448 words/s, in_qsize 7, out_qsize 0\n",
      "2022-06-20 22:21:13,655 : INFO : EPOCH 0 - PROGRESS: at 55.16% examples, 77843 words/s, in_qsize 8, out_qsize 0\n",
      "2022-06-20 22:21:14,705 : INFO : EPOCH 0 - PROGRESS: at 58.94% examples, 78394 words/s, in_qsize 7, out_qsize 0\n",
      "2022-06-20 22:21:15,737 : INFO : EPOCH 0 - PROGRESS: at 62.47% examples, 78588 words/s, in_qsize 7, out_qsize 0\n",
      "2022-06-20 22:21:16,756 : INFO : EPOCH 0 - PROGRESS: at 65.68% examples, 78463 words/s, in_qsize 7, out_qsize 0\n",
      "2022-06-20 22:21:17,953 : INFO : EPOCH 0 - PROGRESS: at 69.12% examples, 78068 words/s, in_qsize 7, out_qsize 0\n",
      "2022-06-20 22:21:19,025 : INFO : EPOCH 0 - PROGRESS: at 72.92% examples, 78499 words/s, in_qsize 7, out_qsize 0\n",
      "2022-06-20 22:21:20,130 : INFO : EPOCH 0 - PROGRESS: at 76.76% examples, 78741 words/s, in_qsize 7, out_qsize 0\n",
      "2022-06-20 22:21:21,199 : INFO : EPOCH 0 - PROGRESS: at 80.66% examples, 79042 words/s, in_qsize 8, out_qsize 0\n",
      "2022-06-20 22:21:22,265 : INFO : EPOCH 0 - PROGRESS: at 84.29% examples, 79397 words/s, in_qsize 7, out_qsize 0\n",
      "2022-06-20 22:21:23,374 : INFO : EPOCH 0 - PROGRESS: at 87.97% examples, 79590 words/s, in_qsize 7, out_qsize 0\n",
      "2022-06-20 22:21:24,464 : INFO : EPOCH 0 - PROGRESS: at 91.98% examples, 79793 words/s, in_qsize 7, out_qsize 0\n",
      "2022-06-20 22:21:25,464 : INFO : EPOCH 0 - PROGRESS: at 95.51% examples, 79969 words/s, in_qsize 8, out_qsize 0\n",
      "2022-06-20 22:21:26,543 : INFO : EPOCH 0 - PROGRESS: at 99.40% examples, 80178 words/s, in_qsize 2, out_qsize 1\n",
      "2022-06-20 22:21:26,678 : INFO : EPOCH 0: training on 3147222 raw words (2453213 effective words) took 30.6s, 80262 effective words/s\n",
      "2022-06-20 22:21:27,743 : INFO : EPOCH 1 - PROGRESS: at 2.81% examples, 65356 words/s, in_qsize 7, out_qsize 0\n",
      "2022-06-20 22:21:28,808 : INFO : EPOCH 1 - PROGRESS: at 6.54% examples, 76314 words/s, in_qsize 7, out_qsize 0\n",
      "2022-06-20 22:21:29,875 : INFO : EPOCH 1 - PROGRESS: at 10.25% examples, 79804 words/s, in_qsize 7, out_qsize 0\n",
      "2022-06-20 22:21:30,925 : INFO : EPOCH 1 - PROGRESS: at 13.94% examples, 81486 words/s, in_qsize 8, out_qsize 0\n",
      "2022-06-20 22:21:31,940 : INFO : EPOCH 1 - PROGRESS: at 17.24% examples, 81727 words/s, in_qsize 8, out_qsize 0\n",
      "2022-06-20 22:21:33,056 : INFO : EPOCH 1 - PROGRESS: at 20.96% examples, 82072 words/s, in_qsize 8, out_qsize 0\n",
      "2022-06-20 22:21:34,172 : INFO : EPOCH 1 - PROGRESS: at 24.89% examples, 82249 words/s, in_qsize 8, out_qsize 0\n",
      "2022-06-20 22:21:35,237 : INFO : EPOCH 1 - PROGRESS: at 28.54% examples, 82794 words/s, in_qsize 7, out_qsize 0\n",
      "2022-06-20 22:21:36,308 : INFO : EPOCH 1 - PROGRESS: at 32.31% examples, 83319 words/s, in_qsize 7, out_qsize 0\n",
      "2022-06-20 22:21:37,411 : INFO : EPOCH 1 - PROGRESS: at 36.01% examples, 83430 words/s, in_qsize 7, out_qsize 0\n",
      "2022-06-20 22:21:38,402 : INFO : EPOCH 1 - PROGRESS: at 39.25% examples, 82866 words/s, in_qsize 7, out_qsize 0\n",
      "2022-06-20 22:21:39,534 : INFO : EPOCH 1 - PROGRESS: at 43.01% examples, 82868 words/s, in_qsize 7, out_qsize 0\n",
      "2022-06-20 22:21:40,732 : INFO : EPOCH 1 - PROGRESS: at 46.83% examples, 82392 words/s, in_qsize 7, out_qsize 0\n",
      "2022-06-20 22:21:41,815 : INFO : EPOCH 1 - PROGRESS: at 50.53% examples, 82607 words/s, in_qsize 7, out_qsize 0\n",
      "2022-06-20 22:21:42,903 : INFO : EPOCH 1 - PROGRESS: at 54.16% examples, 82798 words/s, in_qsize 8, out_qsize 0\n",
      "2022-06-20 22:21:43,969 : INFO : EPOCH 1 - PROGRESS: at 58.01% examples, 83079 words/s, in_qsize 7, out_qsize 0\n",
      "2022-06-20 22:21:45,146 : INFO : EPOCH 1 - PROGRESS: at 61.83% examples, 82775 words/s, in_qsize 8, out_qsize 0\n",
      "2022-06-20 22:21:46,262 : INFO : EPOCH 1 - PROGRESS: at 65.68% examples, 82761 words/s, in_qsize 8, out_qsize 0\n",
      "2022-06-20 22:21:47,278 : INFO : EPOCH 1 - PROGRESS: at 69.12% examples, 82799 words/s, in_qsize 7, out_qsize 0\n",
      "2022-06-20 22:21:48,376 : INFO : EPOCH 1 - PROGRESS: at 72.92% examples, 82948 words/s, in_qsize 7, out_qsize 0\n",
      "2022-06-20 22:21:49,450 : INFO : EPOCH 1 - PROGRESS: at 76.76% examples, 83107 words/s, in_qsize 7, out_qsize 0\n"
     ]
    },
    {
     "name": "stderr",
     "output_type": "stream",
     "text": [
      "2022-06-20 22:21:50,481 : INFO : EPOCH 1 - PROGRESS: at 80.93% examples, 83707 words/s, in_qsize 7, out_qsize 0\n",
      "2022-06-20 22:21:51,591 : INFO : EPOCH 1 - PROGRESS: at 84.62% examples, 83687 words/s, in_qsize 7, out_qsize 0\n",
      "2022-06-20 22:21:52,679 : INFO : EPOCH 1 - PROGRESS: at 88.31% examples, 83794 words/s, in_qsize 7, out_qsize 0\n",
      "2022-06-20 22:21:53,706 : INFO : EPOCH 1 - PROGRESS: at 91.98% examples, 83727 words/s, in_qsize 7, out_qsize 0\n",
      "2022-06-20 22:21:54,772 : INFO : EPOCH 1 - PROGRESS: at 95.82% examples, 83852 words/s, in_qsize 7, out_qsize 0\n",
      "2022-06-20 22:21:55,787 : INFO : EPOCH 1 - PROGRESS: at 99.74% examples, 84106 words/s, in_qsize 1, out_qsize 1\n",
      "2022-06-20 22:21:55,839 : INFO : EPOCH 1: training on 3147222 raw words (2454144 effective words) took 29.2s, 84177 effective words/s\n",
      "2022-06-20 22:21:56,951 : INFO : EPOCH 2 - PROGRESS: at 2.81% examples, 62853 words/s, in_qsize 7, out_qsize 0\n",
      "2022-06-20 22:21:58,064 : INFO : EPOCH 2 - PROGRESS: at 6.54% examples, 73209 words/s, in_qsize 8, out_qsize 0\n",
      "2022-06-20 22:21:59,151 : INFO : EPOCH 2 - PROGRESS: at 10.25% examples, 77128 words/s, in_qsize 8, out_qsize 0\n",
      "2022-06-20 22:22:00,183 : INFO : EPOCH 2 - PROGRESS: at 13.94% examples, 79889 words/s, in_qsize 7, out_qsize 0\n",
      "2022-06-20 22:22:01,322 : INFO : EPOCH 2 - PROGRESS: at 17.57% examples, 80188 words/s, in_qsize 7, out_qsize 0\n",
      "2022-06-20 22:22:02,365 : INFO : EPOCH 2 - PROGRESS: at 20.34% examples, 77950 words/s, in_qsize 8, out_qsize 0\n",
      "2022-06-20 22:22:03,492 : INFO : EPOCH 2 - PROGRESS: at 23.90% examples, 77616 words/s, in_qsize 7, out_qsize 0\n",
      "2022-06-20 22:22:04,528 : INFO : EPOCH 2 - PROGRESS: at 27.03% examples, 77285 words/s, in_qsize 7, out_qsize 0\n",
      "2022-06-20 22:22:05,564 : INFO : EPOCH 2 - PROGRESS: at 30.13% examples, 76952 words/s, in_qsize 7, out_qsize 0\n",
      "2022-06-20 22:22:06,695 : INFO : EPOCH 2 - PROGRESS: at 33.89% examples, 77547 words/s, in_qsize 8, out_qsize 0\n",
      "2022-06-20 22:22:07,693 : INFO : EPOCH 2 - PROGRESS: at 36.90% examples, 77511 words/s, in_qsize 7, out_qsize 0\n",
      "2022-06-20 22:22:08,742 : INFO : EPOCH 2 - PROGRESS: at 40.23% examples, 77264 words/s, in_qsize 7, out_qsize 0\n",
      "2022-06-20 22:22:09,807 : INFO : EPOCH 2 - PROGRESS: at 43.96% examples, 78005 words/s, in_qsize 8, out_qsize 0\n",
      "2022-06-20 22:22:10,892 : INFO : EPOCH 2 - PROGRESS: at 47.77% examples, 78519 words/s, in_qsize 7, out_qsize 0\n",
      "2022-06-20 22:22:11,974 : INFO : EPOCH 2 - PROGRESS: at 51.46% examples, 79023 words/s, in_qsize 7, out_qsize 0\n",
      "2022-06-20 22:22:13,060 : INFO : EPOCH 2 - PROGRESS: at 55.16% examples, 79409 words/s, in_qsize 7, out_qsize 0\n",
      "2022-06-20 22:22:14,122 : INFO : EPOCH 2 - PROGRESS: at 58.94% examples, 79833 words/s, in_qsize 7, out_qsize 0\n",
      "2022-06-20 22:22:15,138 : INFO : EPOCH 2 - PROGRESS: at 62.20% examples, 79667 words/s, in_qsize 7, out_qsize 0\n",
      "2022-06-20 22:22:16,154 : INFO : EPOCH 2 - PROGRESS: at 65.42% examples, 79453 words/s, in_qsize 7, out_qsize 0\n",
      "2022-06-20 22:22:17,237 : INFO : EPOCH 2 - PROGRESS: at 69.12% examples, 79783 words/s, in_qsize 8, out_qsize 0\n",
      "2022-06-20 22:22:18,286 : INFO : EPOCH 2 - PROGRESS: at 71.60% examples, 78821 words/s, in_qsize 8, out_qsize 0\n",
      "2022-06-20 22:22:19,432 : INFO : EPOCH 2 - PROGRESS: at 75.42% examples, 78949 words/s, in_qsize 7, out_qsize 0\n",
      "2022-06-20 22:22:20,524 : INFO : EPOCH 2 - PROGRESS: at 79.30% examples, 79183 words/s, in_qsize 8, out_qsize 0\n",
      "2022-06-20 22:22:21,741 : INFO : EPOCH 2 - PROGRESS: at 83.04% examples, 79054 words/s, in_qsize 7, out_qsize 0\n",
      "2022-06-20 22:22:22,749 : INFO : EPOCH 2 - PROGRESS: at 86.15% examples, 78978 words/s, in_qsize 7, out_qsize 0\n",
      "2022-06-20 22:22:23,797 : INFO : EPOCH 2 - PROGRESS: at 89.38% examples, 78794 words/s, in_qsize 7, out_qsize 0\n",
      "2022-06-20 22:22:24,813 : INFO : EPOCH 2 - PROGRESS: at 92.63% examples, 78681 words/s, in_qsize 7, out_qsize 0\n",
      "2022-06-20 22:22:25,864 : INFO : EPOCH 2 - PROGRESS: at 95.82% examples, 78493 words/s, in_qsize 8, out_qsize 0\n",
      "2022-06-20 22:22:26,933 : INFO : EPOCH 2 - PROGRESS: at 99.66% examples, 78757 words/s, in_qsize 1, out_qsize 1\n",
      "2022-06-20 22:22:26,963 : INFO : EPOCH 2: training on 3147222 raw words (2454870 effective words) took 31.1s, 78920 effective words/s\n",
      "2022-06-20 22:22:28,044 : INFO : EPOCH 3 - PROGRESS: at 2.81% examples, 63950 words/s, in_qsize 7, out_qsize 0\n",
      "2022-06-20 22:22:29,118 : INFO : EPOCH 3 - PROGRESS: at 6.54% examples, 75222 words/s, in_qsize 7, out_qsize 0\n",
      "2022-06-20 22:22:30,179 : INFO : EPOCH 3 - PROGRESS: at 10.25% examples, 79109 words/s, in_qsize 7, out_qsize 0\n",
      "2022-06-20 22:22:31,272 : INFO : EPOCH 3 - PROGRESS: at 13.94% examples, 80412 words/s, in_qsize 7, out_qsize 0\n",
      "2022-06-20 22:22:32,291 : INFO : EPOCH 3 - PROGRESS: at 17.24% examples, 80887 words/s, in_qsize 8, out_qsize 0\n",
      "2022-06-20 22:22:33,408 : INFO : EPOCH 3 - PROGRESS: at 20.96% examples, 81205 words/s, in_qsize 7, out_qsize 0\n",
      "2022-06-20 22:22:34,491 : INFO : EPOCH 3 - PROGRESS: at 24.89% examples, 81850 words/s, in_qsize 7, out_qsize 0\n",
      "2022-06-20 22:22:35,586 : INFO : EPOCH 3 - PROGRESS: at 28.54% examples, 82267 words/s, in_qsize 7, out_qsize 0\n",
      "2022-06-20 22:22:36,669 : INFO : EPOCH 3 - PROGRESS: at 32.31% examples, 82652 words/s, in_qsize 8, out_qsize 0\n",
      "2022-06-20 22:22:37,686 : INFO : EPOCH 3 - PROGRESS: at 35.72% examples, 82754 words/s, in_qsize 7, out_qsize 0\n",
      "2022-06-20 22:22:38,802 : INFO : EPOCH 3 - PROGRESS: at 39.57% examples, 82789 words/s, in_qsize 7, out_qsize 0\n",
      "2022-06-20 22:22:39,851 : INFO : EPOCH 3 - PROGRESS: at 43.28% examples, 83238 words/s, in_qsize 7, out_qsize 0\n",
      "2022-06-20 22:22:40,884 : INFO : EPOCH 3 - PROGRESS: at 46.54% examples, 82564 words/s, in_qsize 7, out_qsize 0\n",
      "2022-06-20 22:22:42,050 : INFO : EPOCH 3 - PROGRESS: at 49.26% examples, 80823 words/s, in_qsize 7, out_qsize 0\n",
      "2022-06-20 22:22:43,065 : INFO : EPOCH 3 - PROGRESS: at 51.77% examples, 79545 words/s, in_qsize 7, out_qsize 0\n",
      "2022-06-20 22:22:44,081 : INFO : EPOCH 3 - PROGRESS: at 55.16% examples, 79832 words/s, in_qsize 7, out_qsize 0\n",
      "2022-06-20 22:22:45,147 : INFO : EPOCH 3 - PROGRESS: at 58.94% examples, 80226 words/s, in_qsize 8, out_qsize 0\n",
      "2022-06-20 22:22:46,162 : INFO : EPOCH 3 - PROGRESS: at 62.20% examples, 80003 words/s, in_qsize 8, out_qsize 0\n",
      "2022-06-20 22:22:47,261 : INFO : EPOCH 3 - PROGRESS: at 65.99% examples, 80230 words/s, in_qsize 7, out_qsize 0\n",
      "2022-06-20 22:22:48,378 : INFO : EPOCH 3 - PROGRESS: at 69.70% examples, 80399 words/s, in_qsize 7, out_qsize 0\n",
      "2022-06-20 22:22:49,540 : INFO : EPOCH 3 - PROGRESS: at 73.49% examples, 80399 words/s, in_qsize 8, out_qsize 0\n",
      "2022-06-20 22:22:50,692 : INFO : EPOCH 3 - PROGRESS: at 77.36% examples, 80385 words/s, in_qsize 8, out_qsize 0\n",
      "2022-06-20 22:22:51,814 : INFO : EPOCH 3 - PROGRESS: at 81.27% examples, 80472 words/s, in_qsize 7, out_qsize 0\n",
      "2022-06-20 22:22:52,895 : INFO : EPOCH 3 - PROGRESS: at 84.92% examples, 80687 words/s, in_qsize 7, out_qsize 0\n",
      "2022-06-20 22:22:53,909 : INFO : EPOCH 3 - PROGRESS: at 88.31% examples, 80848 words/s, in_qsize 7, out_qsize 0\n",
      "2022-06-20 22:22:55,067 : INFO : EPOCH 3 - PROGRESS: at 92.32% examples, 80804 words/s, in_qsize 7, out_qsize 0\n",
      "2022-06-20 22:22:56,174 : INFO : EPOCH 3 - PROGRESS: at 96.10% examples, 80914 words/s, in_qsize 7, out_qsize 0\n",
      "2022-06-20 22:22:57,179 : INFO : EPOCH 3 - PROGRESS: at 100.00% examples, 81250 words/s, in_qsize 0, out_qsize 1\n",
      "2022-06-20 22:22:57,185 : INFO : EPOCH 3: training on 3147222 raw words (2454599 effective words) took 30.2s, 81245 effective words/s\n",
      "2022-06-20 22:22:58,236 : INFO : EPOCH 4 - PROGRESS: at 2.81% examples, 65604 words/s, in_qsize 7, out_qsize 0\n",
      "2022-06-20 22:22:59,318 : INFO : EPOCH 4 - PROGRESS: at 6.54% examples, 75732 words/s, in_qsize 7, out_qsize 0\n",
      "2022-06-20 22:23:00,449 : INFO : EPOCH 4 - PROGRESS: at 10.25% examples, 77934 words/s, in_qsize 8, out_qsize 0\n",
      "2022-06-20 22:23:01,483 : INFO : EPOCH 4 - PROGRESS: at 13.94% examples, 80280 words/s, in_qsize 8, out_qsize 0\n",
      "2022-06-20 22:23:02,566 : INFO : EPOCH 4 - PROGRESS: at 17.57% examples, 81298 words/s, in_qsize 7, out_qsize 0\n",
      "2022-06-20 22:23:03,664 : INFO : EPOCH 4 - PROGRESS: at 21.26% examples, 81810 words/s, in_qsize 8, out_qsize 0\n",
      "2022-06-20 22:23:04,888 : INFO : EPOCH 4 - PROGRESS: at 25.20% examples, 80894 words/s, in_qsize 8, out_qsize 0\n"
     ]
    },
    {
     "name": "stderr",
     "output_type": "stream",
     "text": [
      "2022-06-20 22:23:05,962 : INFO : EPOCH 4 - PROGRESS: at 28.89% examples, 81653 words/s, in_qsize 7, out_qsize 0\n",
      "2022-06-20 22:23:07,028 : INFO : EPOCH 4 - PROGRESS: at 32.65% examples, 82147 words/s, in_qsize 7, out_qsize 0\n",
      "2022-06-20 22:23:08,111 : INFO : EPOCH 4 - PROGRESS: at 36.32% examples, 82537 words/s, in_qsize 7, out_qsize 0\n",
      "2022-06-20 22:23:09,210 : INFO : EPOCH 4 - PROGRESS: at 40.23% examples, 82670 words/s, in_qsize 7, out_qsize 0\n",
      "2022-06-20 22:23:10,276 : INFO : EPOCH 4 - PROGRESS: at 43.93% examples, 83076 words/s, in_qsize 8, out_qsize 0\n",
      "2022-06-20 22:23:11,462 : INFO : EPOCH 4 - PROGRESS: at 47.77% examples, 82684 words/s, in_qsize 7, out_qsize 0\n",
      "2022-06-20 22:23:12,599 : INFO : EPOCH 4 - PROGRESS: at 50.53% examples, 81096 words/s, in_qsize 8, out_qsize 0\n",
      "2022-06-20 22:23:13,688 : INFO : EPOCH 4 - PROGRESS: at 54.16% examples, 81393 words/s, in_qsize 7, out_qsize 0\n",
      "2022-06-20 22:23:14,774 : INFO : EPOCH 4 - PROGRESS: at 57.97% examples, 81606 words/s, in_qsize 7, out_qsize 0\n",
      "2022-06-20 22:23:15,806 : INFO : EPOCH 4 - PROGRESS: at 61.48% examples, 81653 words/s, in_qsize 7, out_qsize 0\n",
      "2022-06-20 22:23:16,888 : INFO : EPOCH 4 - PROGRESS: at 65.42% examples, 81835 words/s, in_qsize 7, out_qsize 0\n",
      "2022-06-20 22:23:17,953 : INFO : EPOCH 4 - PROGRESS: at 69.12% examples, 82110 words/s, in_qsize 7, out_qsize 0\n",
      "2022-06-20 22:23:19,035 : INFO : EPOCH 4 - PROGRESS: at 72.92% examples, 82312 words/s, in_qsize 7, out_qsize 0\n",
      "2022-06-20 22:23:20,084 : INFO : EPOCH 4 - PROGRESS: at 76.08% examples, 81932 words/s, in_qsize 7, out_qsize 0\n",
      "2022-06-20 22:23:21,184 : INFO : EPOCH 4 - PROGRESS: at 79.66% examples, 81710 words/s, in_qsize 7, out_qsize 0\n",
      "2022-06-20 22:23:22,332 : INFO : EPOCH 4 - PROGRESS: at 83.34% examples, 81665 words/s, in_qsize 8, out_qsize 0\n",
      "2022-06-20 22:23:23,348 : INFO : EPOCH 4 - PROGRESS: at 86.72% examples, 81766 words/s, in_qsize 7, out_qsize 0\n",
      "2022-06-20 22:23:24,409 : INFO : EPOCH 4 - PROGRESS: at 90.68% examples, 81999 words/s, in_qsize 7, out_qsize 0\n",
      "2022-06-20 22:23:25,440 : INFO : EPOCH 4 - PROGRESS: at 94.59% examples, 82273 words/s, in_qsize 7, out_qsize 0\n",
      "2022-06-20 22:23:26,446 : INFO : EPOCH 4 - PROGRESS: at 97.41% examples, 81814 words/s, in_qsize 7, out_qsize 0\n",
      "2022-06-20 22:23:27,079 : INFO : EPOCH 4: training on 3147222 raw words (2454162 effective words) took 29.9s, 82112 effective words/s\n",
      "2022-06-20 22:23:27,079 : INFO : Word2Vec lifecycle event {'msg': 'training on 15736110 raw words (12270988 effective words) took 151.0s, 81279 effective words/s', 'datetime': '2022-06-20T22:23:27.079160', 'gensim': '4.2.0', 'python': '3.9.13 (tags/v3.9.13:6de2ca5, May 17 2022, 16:36:42) [MSC v.1929 64 bit (AMD64)]', 'platform': 'Windows-10-10.0.19044-SP0', 'event': 'train'}\n",
      "2022-06-20 22:23:27,079 : INFO : Word2Vec lifecycle event {'params': 'Word2Vec<vocab=7530, vector_size=300, alpha=0.025>', 'datetime': '2022-06-20T22:23:27.079160', 'gensim': '4.2.0', 'python': '3.9.13 (tags/v3.9.13:6de2ca5, May 17 2022, 16:36:42) [MSC v.1929 64 bit (AMD64)]', 'platform': 'Windows-10-10.0.19044-SP0', 'event': 'created'}\n",
      "2022-06-20 22:23:27,086 : INFO : Word2Vec lifecycle event {'fname_or_handle': 'My_Word2Vec', 'separately': 'None', 'sep_limit': 10485760, 'ignore': frozenset(), 'datetime': '2022-06-20T22:23:27.086108', 'gensim': '4.2.0', 'python': '3.9.13 (tags/v3.9.13:6de2ca5, May 17 2022, 16:36:42) [MSC v.1929 64 bit (AMD64)]', 'platform': 'Windows-10-10.0.19044-SP0', 'event': 'saving'}\n",
      "2022-06-20 22:23:27,087 : INFO : not storing attribute cum_table\n",
      "2022-06-20 22:23:27,130 : INFO : saved My_Word2Vec\n"
     ]
    }
   ],
   "source": [
    "print (\"Training model...\")\n",
    "model = word2vec.Word2Vec(X, workers=num_workers,  min_count = min_word_count, \\\n",
    "            window = context, vector_size = num_features, sample = downsampling, sg = 1)\n",
    "\n",
    "\n",
    "# It can be helpful to create a meaningful model name and \n",
    "# save the model for later use. You can load it later using Word2Vec.load()\n",
    "model_name = \"My_Word2Vec\"\n",
    "model.save(model_name)"
   ]
  },
  {
   "cell_type": "code",
   "execution_count": 36,
   "id": "c343ec23",
   "metadata": {
    "scrolled": false
   },
   "outputs": [
    {
     "name": "stdout",
     "output_type": "stream",
     "text": [
      "7530\n"
     ]
    }
   ],
   "source": [
    "keys_vocab = model.wv.key_to_index.keys()\n",
    "print((len(keys_vocab)))"
   ]
  },
  {
   "cell_type": "code",
   "execution_count": 37,
   "id": "c5036377",
   "metadata": {
    "scrolled": true
   },
   "outputs": [
    {
     "data": {
      "text/plain": [
       "[('ebert', 0.6155725121498108),\n",
       " ('praised', 0.5479583740234375),\n",
       " ('acclaim', 0.5354294776916504),\n",
       " ('criticize', 0.5327479243278503),\n",
       " ('cannes', 0.5030368566513062),\n",
       " ('bias', 0.4883792996406555),\n",
       " ('review', 0.48595499992370605),\n",
       " ('voted', 0.4836916923522949),\n",
       " ('disagree', 0.4791921079158783),\n",
       " ('moviegoer', 0.4788428544998169)]"
      ]
     },
     "execution_count": 37,
     "metadata": {},
     "output_type": "execute_result"
    }
   ],
   "source": [
    "model.wv.most_similar('critic')"
   ]
  },
  {
   "cell_type": "code",
   "execution_count": 38,
   "id": "03fdb144",
   "metadata": {},
   "outputs": [
    {
     "name": "stdout",
     "output_type": "stream",
     "text": [
      "514\n"
     ]
    }
   ],
   "source": [
    "critic_cnt = model.wv.get_vecattr(\"critic\", \"count\")\n",
    "print(critic_cnt)\n",
    "\n"
   ]
  },
  {
   "cell_type": "code",
   "execution_count": 39,
   "id": "e391dd0f",
   "metadata": {
    "scrolled": true
   },
   "outputs": [
    {
     "name": "stdout",
     "output_type": "stream",
     "text": [
      "(300,)\n",
      "\n",
      "10 premières composantes du vecteurs du mot 'critic' normalisé : \n",
      "\n",
      "[ 0.02017531  0.02594605 -0.04632717  0.05009831  0.02191776 -0.0713042\n",
      "  0.11032633  0.2022147  -0.15226015 -0.07339513]\n"
     ]
    }
   ],
   "source": [
    "normed_vector = model.wv.get_vector(\"critic\", norm=True)\n",
    "print(normed_vector.shape)\n",
    "print('\\n10 premières composantes du vecteurs du mot \\'critic\\' normalisé : \\n')\n",
    "print(normed_vector[0:10])"
   ]
  },
  {
   "cell_type": "code",
   "execution_count": 40,
   "id": "31da4568",
   "metadata": {},
   "outputs": [
    {
     "data": {
      "text/plain": [
       "(25000, 300)"
      ]
     },
     "execution_count": 40,
     "metadata": {},
     "output_type": "execute_result"
    }
   ],
   "source": [
    "def get_vect(word, model):\n",
    "    try:\n",
    "        return model.wv[word]\n",
    "    except KeyError:\n",
    "        return np.zeros((model.vector_size,))\n",
    "\n",
    "def sum_vectors(phrase, model):\n",
    "    return sum(get_vect(w, model) for w in phrase)\n",
    "\n",
    "def word2vec_features(X, model):\n",
    "    feats = np.vstack([sum_vectors(p, model) for p in X])\n",
    "    return feats\n",
    "\n",
    "wv_train_feat = word2vec_features(df[\"review\"], model)\n",
    "wv_train_feat.shape"
   ]
  },
  {
   "cell_type": "code",
   "execution_count": 41,
   "id": "52c370fa",
   "metadata": {},
   "outputs": [],
   "source": [
    "X_train, X_test, y_train, y_test =\\\n",
    "train_test_split(wv_train_feat, df['sentiment'], \n",
    "                 test_size=0.2, random_state=42)"
   ]
  },
  {
   "cell_type": "code",
   "execution_count": 42,
   "id": "f7747143",
   "metadata": {
    "scrolled": true
   },
   "outputs": [
    {
     "data": {
      "text/html": [
       "<style>#sk-container-id-1 {color: black;background-color: white;}#sk-container-id-1 pre{padding: 0;}#sk-container-id-1 div.sk-toggleable {background-color: white;}#sk-container-id-1 label.sk-toggleable__label {cursor: pointer;display: block;width: 100%;margin-bottom: 0;padding: 0.3em;box-sizing: border-box;text-align: center;}#sk-container-id-1 label.sk-toggleable__label-arrow:before {content: \"▸\";float: left;margin-right: 0.25em;color: #696969;}#sk-container-id-1 label.sk-toggleable__label-arrow:hover:before {color: black;}#sk-container-id-1 div.sk-estimator:hover label.sk-toggleable__label-arrow:before {color: black;}#sk-container-id-1 div.sk-toggleable__content {max-height: 0;max-width: 0;overflow: hidden;text-align: left;background-color: #f0f8ff;}#sk-container-id-1 div.sk-toggleable__content pre {margin: 0.2em;color: black;border-radius: 0.25em;background-color: #f0f8ff;}#sk-container-id-1 input.sk-toggleable__control:checked~div.sk-toggleable__content {max-height: 200px;max-width: 100%;overflow: auto;}#sk-container-id-1 input.sk-toggleable__control:checked~label.sk-toggleable__label-arrow:before {content: \"▾\";}#sk-container-id-1 div.sk-estimator input.sk-toggleable__control:checked~label.sk-toggleable__label {background-color: #d4ebff;}#sk-container-id-1 div.sk-label input.sk-toggleable__control:checked~label.sk-toggleable__label {background-color: #d4ebff;}#sk-container-id-1 input.sk-hidden--visually {border: 0;clip: rect(1px 1px 1px 1px);clip: rect(1px, 1px, 1px, 1px);height: 1px;margin: -1px;overflow: hidden;padding: 0;position: absolute;width: 1px;}#sk-container-id-1 div.sk-estimator {font-family: monospace;background-color: #f0f8ff;border: 1px dotted black;border-radius: 0.25em;box-sizing: border-box;margin-bottom: 0.5em;}#sk-container-id-1 div.sk-estimator:hover {background-color: #d4ebff;}#sk-container-id-1 div.sk-parallel-item::after {content: \"\";width: 100%;border-bottom: 1px solid gray;flex-grow: 1;}#sk-container-id-1 div.sk-label:hover label.sk-toggleable__label {background-color: #d4ebff;}#sk-container-id-1 div.sk-serial::before {content: \"\";position: absolute;border-left: 1px solid gray;box-sizing: border-box;top: 0;bottom: 0;left: 50%;z-index: 0;}#sk-container-id-1 div.sk-serial {display: flex;flex-direction: column;align-items: center;background-color: white;padding-right: 0.2em;padding-left: 0.2em;position: relative;}#sk-container-id-1 div.sk-item {position: relative;z-index: 1;}#sk-container-id-1 div.sk-parallel {display: flex;align-items: stretch;justify-content: center;background-color: white;position: relative;}#sk-container-id-1 div.sk-item::before, #sk-container-id-1 div.sk-parallel-item::before {content: \"\";position: absolute;border-left: 1px solid gray;box-sizing: border-box;top: 0;bottom: 0;left: 50%;z-index: -1;}#sk-container-id-1 div.sk-parallel-item {display: flex;flex-direction: column;z-index: 1;position: relative;background-color: white;}#sk-container-id-1 div.sk-parallel-item:first-child::after {align-self: flex-end;width: 50%;}#sk-container-id-1 div.sk-parallel-item:last-child::after {align-self: flex-start;width: 50%;}#sk-container-id-1 div.sk-parallel-item:only-child::after {width: 0;}#sk-container-id-1 div.sk-dashed-wrapped {border: 1px dashed gray;margin: 0 0.4em 0.5em 0.4em;box-sizing: border-box;padding-bottom: 0.4em;background-color: white;}#sk-container-id-1 div.sk-label label {font-family: monospace;font-weight: bold;display: inline-block;line-height: 1.2em;}#sk-container-id-1 div.sk-label-container {text-align: center;}#sk-container-id-1 div.sk-container {/* jupyter's `normalize.less` sets `[hidden] { display: none; }` but bootstrap.min.css set `[hidden] { display: none !important; }` so we also need the `!important` here to be able to override the default hidden behavior on the sphinx rendered scikit-learn.org. See: https://github.com/scikit-learn/scikit-learn/issues/21755 */display: inline-block !important;position: relative;}#sk-container-id-1 div.sk-text-repr-fallback {display: none;}</style><div id=\"sk-container-id-1\" class=\"sk-top-container\"><div class=\"sk-text-repr-fallback\"><pre>LogisticRegression(max_iter=1000)</pre><b>In a Jupyter environment, please rerun this cell to show the HTML representation or trust the notebook. <br />On GitHub, the HTML representation is unable to render, please try loading this page with nbviewer.org.</b></div><div class=\"sk-container\" hidden><div class=\"sk-item\"><div class=\"sk-estimator sk-toggleable\"><input class=\"sk-toggleable__control sk-hidden--visually\" id=\"sk-estimator-id-1\" type=\"checkbox\" checked><label for=\"sk-estimator-id-1\" class=\"sk-toggleable__label sk-toggleable__label-arrow\">LogisticRegression</label><div class=\"sk-toggleable__content\"><pre>LogisticRegression(max_iter=1000)</pre></div></div></div></div></div>"
      ],
      "text/plain": [
       "LogisticRegression(max_iter=1000)"
      ]
     },
     "execution_count": 42,
     "metadata": {},
     "output_type": "execute_result"
    }
   ],
   "source": [
    "clfwv = LogisticRegression(solver='lbfgs', max_iter=1000)\n",
    "clfwv.fit(X_train, y_train)"
   ]
  },
  {
   "cell_type": "code",
   "execution_count": 43,
   "id": "48f52649",
   "metadata": {
    "scrolled": true
   },
   "outputs": [
    {
     "data": {
      "text/plain": [
       "0.877"
      ]
     },
     "execution_count": 43,
     "metadata": {},
     "output_type": "execute_result"
    }
   ],
   "source": [
    "clfwv.score(X_test, y_test)"
   ]
  },
  {
   "cell_type": "code",
   "execution_count": 44,
   "id": "6c9d08b0",
   "metadata": {},
   "outputs": [],
   "source": [
    "path_test_data = r'testData.tsv.zip'\n",
    "df_test = pd.read_csv(path_train_data, delimiter = '\\t')"
   ]
  }
 ],
 "metadata": {
  "kernelspec": {
   "display_name": "Python 3 (ipykernel)",
   "language": "python",
   "name": "python3"
  },
  "language_info": {
   "codemirror_mode": {
    "name": "ipython",
    "version": 3
   },
   "file_extension": ".py",
   "mimetype": "text/x-python",
   "name": "python",
   "nbconvert_exporter": "python",
   "pygments_lexer": "ipython3",
   "version": "3.9.13"
  }
 },
 "nbformat": 4,
 "nbformat_minor": 5
}
