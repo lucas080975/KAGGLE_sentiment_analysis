{
 "cells": [
  {
   "cell_type": "markdown",
   "id": "e9d10612",
   "metadata": {},
   "source": [
    "# Word embedding"
   ]
  },
  {
   "cell_type": "code",
   "execution_count": 27,
   "id": "ed620cc4",
   "metadata": {},
   "outputs": [],
   "source": [
    "import numpy as np\n",
    "import pandas as pd"
   ]
  },
  {
   "cell_type": "code",
   "execution_count": 189,
   "id": "5e1f0da9",
   "metadata": {},
   "outputs": [],
   "source": [
    "df = pd.read_csv('dataset_training_clean.csv')"
   ]
  },
  {
   "cell_type": "code",
   "execution_count": 190,
   "id": "8b60132f",
   "metadata": {
    "scrolled": false
   },
   "outputs": [
    {
     "data": {
      "text/html": [
       "<div>\n",
       "<style scoped>\n",
       "    .dataframe tbody tr th:only-of-type {\n",
       "        vertical-align: middle;\n",
       "    }\n",
       "\n",
       "    .dataframe tbody tr th {\n",
       "        vertical-align: top;\n",
       "    }\n",
       "\n",
       "    .dataframe thead th {\n",
       "        text-align: right;\n",
       "    }\n",
       "</style>\n",
       "<table border=\"1\" class=\"dataframe\">\n",
       "  <thead>\n",
       "    <tr style=\"text-align: right;\">\n",
       "      <th></th>\n",
       "      <th>id</th>\n",
       "      <th>sentiment</th>\n",
       "      <th>review</th>\n",
       "    </tr>\n",
       "  </thead>\n",
       "  <tbody>\n",
       "    <tr>\n",
       "      <th>0</th>\n",
       "      <td>5814_8</td>\n",
       "      <td>1</td>\n",
       "      <td>['with', 'stuff', 'going', 'moment', 'mj', 'i'...</td>\n",
       "    </tr>\n",
       "    <tr>\n",
       "      <th>1</th>\n",
       "      <td>2381_9</td>\n",
       "      <td>1</td>\n",
       "      <td>['the', 'classic', 'war', 'world', 'timothy', ...</td>\n",
       "    </tr>\n",
       "    <tr>\n",
       "      <th>2</th>\n",
       "      <td>7759_3</td>\n",
       "      <td>0</td>\n",
       "      <td>['the', 'film', 'start', 'manager', 'nicholas'...</td>\n",
       "    </tr>\n",
       "    <tr>\n",
       "      <th>3</th>\n",
       "      <td>3630_4</td>\n",
       "      <td>0</td>\n",
       "      <td>['it', 'assumed', 'praised', 'film', 'the', 'g...</td>\n",
       "    </tr>\n",
       "    <tr>\n",
       "      <th>4</th>\n",
       "      <td>9495_8</td>\n",
       "      <td>1</td>\n",
       "      <td>['superbly', 'trashy', 'wondrously', 'unpreten...</td>\n",
       "    </tr>\n",
       "  </tbody>\n",
       "</table>\n",
       "</div>"
      ],
      "text/plain": [
       "       id  sentiment                                             review\n",
       "0  5814_8          1  ['with', 'stuff', 'going', 'moment', 'mj', 'i'...\n",
       "1  2381_9          1  ['the', 'classic', 'war', 'world', 'timothy', ...\n",
       "2  7759_3          0  ['the', 'film', 'start', 'manager', 'nicholas'...\n",
       "3  3630_4          0  ['it', 'assumed', 'praised', 'film', 'the', 'g...\n",
       "4  9495_8          1  ['superbly', 'trashy', 'wondrously', 'unpreten..."
      ]
     },
     "execution_count": 190,
     "metadata": {},
     "output_type": "execute_result"
    }
   ],
   "source": [
    "df.head()"
   ]
  },
  {
   "cell_type": "code",
   "execution_count": 192,
   "id": "5f2a94e0",
   "metadata": {},
   "outputs": [
    {
     "ename": "TypeError",
     "evalue": "'list' object is not callable",
     "output_type": "error",
     "traceback": [
      "\u001b[1;31m---------------------------------------------------------------------------\u001b[0m",
      "\u001b[1;31mTypeError\u001b[0m                                 Traceback (most recent call last)",
      "Input \u001b[1;32mIn [192]\u001b[0m, in \u001b[0;36m<cell line: 1>\u001b[1;34m()\u001b[0m\n\u001b[1;32m----> 1\u001b[0m \u001b[38;5;28;43mlist\u001b[39;49m\u001b[43m(\u001b[49m\u001b[43mdf\u001b[49m\u001b[43m[\u001b[49m\u001b[38;5;124;43m'\u001b[39;49m\u001b[38;5;124;43mreview\u001b[39;49m\u001b[38;5;124;43m'\u001b[39;49m\u001b[43m]\u001b[49m\u001b[43m[\u001b[49m\u001b[38;5;241;43m0\u001b[39;49m\u001b[43m]\u001b[49m\u001b[43m)\u001b[49m\n",
      "\u001b[1;31mTypeError\u001b[0m: 'list' object is not callable"
     ]
    }
   ],
   "source": []
  },
  {
   "cell_type": "code",
   "execution_count": 191,
   "id": "ad6c3b68",
   "metadata": {},
   "outputs": [
    {
     "data": {
      "text/plain": [
       "str"
      ]
     },
     "execution_count": 191,
     "metadata": {},
     "output_type": "execute_result"
    }
   ],
   "source": [
    "type(df['review'][0])"
   ]
  },
  {
   "cell_type": "code",
   "execution_count": 165,
   "id": "14f66929",
   "metadata": {},
   "outputs": [],
   "source": [
    "import re\n",
    "def clean_txt(t):\n",
    "    \n",
    "    for i in range(len(t)) :\n",
    "        \n",
    "        t[i] = t[i].lower()\n",
    "        t[i] = re.sub(r'[^\\w\\s]','',t[i])\n",
    "        t[i] = ''.join([j for j in t[i] if not j.isdigit()])\n",
    "        \n",
    "    return t "
   ]
  },
  {
   "cell_type": "code",
   "execution_count": 166,
   "id": "9ccf3f4f",
   "metadata": {},
   "outputs": [],
   "source": [
    "df['review'] = df['review'].apply(lambda row : row.split(','))\n",
    "df['review'] = df['review'].apply(lambda row : clean_txt(row))\n"
   ]
  },
  {
   "cell_type": "markdown",
   "id": "c5c5983d",
   "metadata": {},
   "source": [
    "## Word2Vec"
   ]
  },
  {
   "cell_type": "code",
   "execution_count": 137,
   "id": "55c5324b",
   "metadata": {},
   "outputs": [],
   "source": [
    "from nltk.corpus import brown"
   ]
  },
  {
   "cell_type": "code",
   "execution_count": 168,
   "id": "4915fd6f",
   "metadata": {},
   "outputs": [],
   "source": [
    "# Import the built-in logging module and configure it so that Word2Vec \n",
    "# creates nice output messages\n",
    "import logging\n",
    "logging.basicConfig(format='%(asctime)s : %(levelname)s : %(message)s',\\\n",
    "    level=logging.INFO)\n",
    "# brown_vecs = word2vec.Word2Vec(brown.sents())"
   ]
  },
  {
   "cell_type": "code",
   "execution_count": 169,
   "id": "7673199b",
   "metadata": {},
   "outputs": [],
   "source": [
    "# Set values for various parameters\n",
    "num_features = 300    # Word vector dimensionality                      \n",
    "min_word_count = 40  # Minimum word count                        \n",
    "num_workers = 4       # Number of threads to run in parallel\n",
    "context = 10          # Context window size                                                                                    \n",
    "downsampling = 1e-3   # Downsample setting for frequent words\n",
    "vector_size = 50"
   ]
  },
  {
   "cell_type": "markdown",
   "id": "9ea103ad",
   "metadata": {},
   "source": [
    "### Train, test split"
   ]
  },
  {
   "cell_type": "code",
   "execution_count": 170,
   "id": "2caa2218",
   "metadata": {},
   "outputs": [],
   "source": [
    "from sklearn.model_selection import train_test_split\n",
    "\n",
    "X_train, X_test, y_train, y_test = train_test_split(df['review'], df['sentiment'], test_size=0.2, random_state=42)"
   ]
  },
  {
   "cell_type": "code",
   "execution_count": 171,
   "id": "052690a1",
   "metadata": {
    "scrolled": true
   },
   "outputs": [
    {
     "name": "stdout",
     "output_type": "stream",
     "text": [
      "['with', ' stuff', ' going', ' moment', ' mj', ' i', ' ve', ' started', ' listening', ' music', ' watching', ' odd', ' documentary', ' there', ' watched', ' the', ' wiz', ' watched', ' moonwalker', ' again', ' maybe', ' want', ' certain', ' insight', ' guy', ' thought', ' cool', ' eighty', ' maybe', ' mind', ' guilty', ' innocent', ' moonwalker', ' biography', ' feature', ' film', ' remember', ' going', ' cinema', ' originally', ' released', ' some', ' subtle', ' message', ' mj', ' s', ' feeling', ' press', ' obvious', ' message', ' drug', ' bad', ' mkayvisually', ' impressive', ' course', ' michael', ' jackson', ' remotely', ' like', ' mj', ' going', ' hate', ' boring', ' some', ' mj', ' egotist', ' consenting', ' making', ' movie', ' but', ' mj', ' fan', ' fan', ' true', ' nice', ' himthe', ' actual', ' feature', ' film', ' bit', ' finally', ' start', ' minute', ' excluding', ' smooth', ' criminal', ' sequence', ' joe', ' pesci', ' convincing', ' psychopathic', ' powerful', ' drug', ' lord', ' why', ' want', ' mj', ' dead', ' bad', ' me', ' because', ' mj', ' overheard', ' plan', ' nah', ' joe', ' pesci', ' s', ' character', ' ranted', ' wanted', ' people', ' know', ' supplying', ' drug', ' dunno', ' maybe', ' hate', ' mj', ' s', ' musiclots', ' cool', ' thing', ' like', ' mj', ' turning', ' car', ' robot', ' speed', ' demon', ' sequence', ' also', ' director', ' patience', ' saint', ' came', ' filming', ' kiddy', ' bad', ' sequence', ' usually', ' director', ' hate', ' working', ' kid', ' let', ' bunch', ' performing', ' complex', ' dance', ' scenebottom', ' line', ' movie', ' people', ' like', ' mj', ' level', ' which', ' think', ' people', ' if', ' not', ' stay', ' away', ' it', ' try', ' wholesome', ' message', ' ironically', ' mj', ' s', ' bestest', ' buddy', ' movie', ' girl', ' michael', ' jackson', ' truly', ' talented', ' people', ' grace', ' planet', ' guilty', ' well', ' attention', ' i', ' ve', ' gave', ' subject', ' hmmm', ' do', ' nt', ' know', ' people', ' different', ' closed', ' door', ' know', ' fact', ' he', ' extremely', ' nice', ' stupid', ' guy', ' sickest', ' liar', ' i', ' hope', ' latter']\n"
     ]
    }
   ],
   "source": [
    "print(X_train[0])"
   ]
  },
  {
   "cell_type": "code",
   "execution_count": 172,
   "id": "90e98735",
   "metadata": {
    "scrolled": false
   },
   "outputs": [
    {
     "name": "stderr",
     "output_type": "stream",
     "text": [
      "2022-06-06 11:23:42,810 : INFO : collecting all words and their counts\n",
      "2022-06-06 11:23:42,812 : INFO : PROGRESS: at sentence #0, processed 0 words, keeping 0 word types\n"
     ]
    },
    {
     "name": "stdout",
     "output_type": "stream",
     "text": [
      "Training model...\n"
     ]
    },
    {
     "name": "stderr",
     "output_type": "stream",
     "text": [
      "2022-06-06 11:23:43,051 : INFO : PROGRESS: at sentence #10000, processed 1263354 words, keeping 67261 word types\n",
      "2022-06-06 11:23:43,295 : INFO : collected 99842 word types from a corpus of 2512719 raw words and 20000 sentences\n",
      "2022-06-06 11:23:43,296 : INFO : Creating a fresh vocabulary\n",
      "2022-06-06 11:23:43,348 : INFO : Word2Vec lifecycle event {'msg': 'effective_min_count=40 retains 6494 unique words (6.50% of original 99842, drops 93348)', 'datetime': '2022-06-06T11:23:43.348397', 'gensim': '4.2.0', 'python': '3.9.13 (tags/v3.9.13:6de2ca5, May 17 2022, 16:36:42) [MSC v.1929 64 bit (AMD64)]', 'platform': 'Windows-10-10.0.19042-SP0', 'event': 'prepare_vocab'}\n",
      "2022-06-06 11:23:43,349 : INFO : Word2Vec lifecycle event {'msg': 'effective_min_count=40 leaves 2165009 word corpus (86.16% of original 2512719, drops 347710)', 'datetime': '2022-06-06T11:23:43.349360', 'gensim': '4.2.0', 'python': '3.9.13 (tags/v3.9.13:6de2ca5, May 17 2022, 16:36:42) [MSC v.1929 64 bit (AMD64)]', 'platform': 'Windows-10-10.0.19042-SP0', 'event': 'prepare_vocab'}\n",
      "2022-06-06 11:23:43,394 : INFO : deleting the raw counts dictionary of 99842 items\n",
      "2022-06-06 11:23:43,397 : INFO : sample=0.001 downsamples 30 most-common words\n",
      "2022-06-06 11:23:43,399 : INFO : Word2Vec lifecycle event {'msg': 'downsampling leaves estimated 1922385.5424481835 word corpus (88.8%% of prior 2165009)', 'datetime': '2022-06-06T11:23:43.399253', 'gensim': '4.2.0', 'python': '3.9.13 (tags/v3.9.13:6de2ca5, May 17 2022, 16:36:42) [MSC v.1929 64 bit (AMD64)]', 'platform': 'Windows-10-10.0.19042-SP0', 'event': 'prepare_vocab'}\n",
      "2022-06-06 11:23:43,470 : INFO : estimated required memory for 6494 words and 50 dimensions: 5844600 bytes\n",
      "2022-06-06 11:23:43,470 : INFO : resetting layer weights\n",
      "2022-06-06 11:23:43,478 : INFO : Word2Vec lifecycle event {'update': False, 'trim_rule': 'None', 'datetime': '2022-06-06T11:23:43.478200', 'gensim': '4.2.0', 'python': '3.9.13 (tags/v3.9.13:6de2ca5, May 17 2022, 16:36:42) [MSC v.1929 64 bit (AMD64)]', 'platform': 'Windows-10-10.0.19042-SP0', 'event': 'build_vocab'}\n",
      "2022-06-06 11:23:43,479 : INFO : Word2Vec lifecycle event {'msg': 'training model with 4 workers on 6494 vocabulary and 50 features, using sg=1 hs=0 sample=0.001 negative=5 window=10 shrink_windows=True', 'datetime': '2022-06-06T11:23:43.479196', 'gensim': '4.2.0', 'python': '3.9.13 (tags/v3.9.13:6de2ca5, May 17 2022, 16:36:42) [MSC v.1929 64 bit (AMD64)]', 'platform': 'Windows-10-10.0.19042-SP0', 'event': 'train'}\n",
      "2022-06-06 11:23:44,564 : INFO : EPOCH 0 - PROGRESS: at 11.53% examples, 204720 words/s, in_qsize 8, out_qsize 0\n",
      "2022-06-06 11:23:45,567 : INFO : EPOCH 0 - PROGRESS: at 23.71% examples, 222033 words/s, in_qsize 7, out_qsize 0\n",
      "2022-06-06 11:23:46,576 : INFO : EPOCH 0 - PROGRESS: at 36.27% examples, 228134 words/s, in_qsize 7, out_qsize 0\n",
      "2022-06-06 11:23:47,595 : INFO : EPOCH 0 - PROGRESS: at 49.34% examples, 232207 words/s, in_qsize 7, out_qsize 0\n",
      "2022-06-06 11:23:48,611 : INFO : EPOCH 0 - PROGRESS: at 62.06% examples, 233558 words/s, in_qsize 7, out_qsize 0\n",
      "2022-06-06 11:23:49,652 : INFO : EPOCH 0 - PROGRESS: at 75.27% examples, 234755 words/s, in_qsize 7, out_qsize 0\n",
      "2022-06-06 11:23:50,660 : INFO : EPOCH 0 - PROGRESS: at 87.81% examples, 235520 words/s, in_qsize 7, out_qsize 0\n",
      "2022-06-06 11:23:51,583 : INFO : EPOCH 0: training on 2512719 raw words (1922633 effective words) took 8.1s, 237580 effective words/s\n",
      "2022-06-06 11:23:52,596 : INFO : EPOCH 1 - PROGRESS: at 11.53% examples, 217627 words/s, in_qsize 8, out_qsize 0\n",
      "2022-06-06 11:23:53,604 : INFO : EPOCH 1 - PROGRESS: at 23.71% examples, 228437 words/s, in_qsize 7, out_qsize 0\n",
      "2022-06-06 11:23:54,626 : INFO : EPOCH 1 - PROGRESS: at 36.27% examples, 231497 words/s, in_qsize 8, out_qsize 0\n",
      "2022-06-06 11:23:55,675 : INFO : EPOCH 1 - PROGRESS: at 48.96% examples, 231189 words/s, in_qsize 8, out_qsize 0\n",
      "2022-06-06 11:23:56,729 : INFO : EPOCH 1 - PROGRESS: at 62.06% examples, 232524 words/s, in_qsize 8, out_qsize 0\n",
      "2022-06-06 11:23:57,733 : INFO : EPOCH 1 - PROGRESS: at 74.90% examples, 234006 words/s, in_qsize 7, out_qsize 0\n",
      "2022-06-06 11:23:58,767 : INFO : EPOCH 1 - PROGRESS: at 84.84% examples, 226665 words/s, in_qsize 7, out_qsize 0\n",
      "2022-06-06 11:23:59,792 : INFO : EPOCH 1 - PROGRESS: at 94.16% examples, 220523 words/s, in_qsize 7, out_qsize 0\n",
      "2022-06-06 11:24:00,316 : INFO : EPOCH 1: training on 2512719 raw words (1922578 effective words) took 8.7s, 220254 effective words/s\n",
      "2022-06-06 11:24:01,417 : INFO : EPOCH 2 - PROGRESS: at 8.37% examples, 144870 words/s, in_qsize 7, out_qsize 0\n",
      "2022-06-06 11:24:02,422 : INFO : EPOCH 2 - PROGRESS: at 14.85% examples, 136667 words/s, in_qsize 7, out_qsize 0\n",
      "2022-06-06 11:24:03,442 : INFO : EPOCH 2 - PROGRESS: at 25.30% examples, 157320 words/s, in_qsize 7, out_qsize 0\n",
      "2022-06-06 11:24:04,503 : INFO : EPOCH 2 - PROGRESS: at 35.09% examples, 162723 words/s, in_qsize 7, out_qsize 0\n",
      "2022-06-06 11:24:05,552 : INFO : EPOCH 2 - PROGRESS: at 45.79% examples, 169023 words/s, in_qsize 7, out_qsize 0\n",
      "2022-06-06 11:24:06,583 : INFO : EPOCH 2 - PROGRESS: at 55.24% examples, 170235 words/s, in_qsize 7, out_qsize 0\n",
      "2022-06-06 11:24:07,602 : INFO : EPOCH 2 - PROGRESS: at 65.70% examples, 173526 words/s, in_qsize 7, out_qsize 0\n",
      "2022-06-06 11:24:08,607 : INFO : EPOCH 2 - PROGRESS: at 77.27% examples, 179005 words/s, in_qsize 7, out_qsize 0\n",
      "2022-06-06 11:24:09,633 : INFO : EPOCH 2 - PROGRESS: at 87.81% examples, 181288 words/s, in_qsize 7, out_qsize 0\n",
      "2022-06-06 11:24:10,688 : INFO : EPOCH 2 - PROGRESS: at 98.86% examples, 183310 words/s, in_qsize 3, out_qsize 1\n",
      "2022-06-06 11:24:10,754 : INFO : EPOCH 2: training on 2512719 raw words (1922683 effective words) took 10.4s, 184256 effective words/s\n",
      "2022-06-06 11:24:11,869 : INFO : EPOCH 3 - PROGRESS: at 11.56% examples, 197673 words/s, in_qsize 7, out_qsize 0\n",
      "2022-06-06 11:24:12,898 : INFO : EPOCH 3 - PROGRESS: at 22.14% examples, 201235 words/s, in_qsize 7, out_qsize 0\n",
      "2022-06-06 11:24:13,979 : INFO : EPOCH 3 - PROGRESS: at 33.12% examples, 199585 words/s, in_qsize 7, out_qsize 0\n",
      "2022-06-06 11:24:15,009 : INFO : EPOCH 3 - PROGRESS: at 44.25% examples, 201059 words/s, in_qsize 7, out_qsize 0\n",
      "2022-06-06 11:24:16,061 : INFO : EPOCH 3 - PROGRESS: at 55.24% examples, 201027 words/s, in_qsize 7, out_qsize 0\n",
      "2022-06-06 11:24:17,126 : INFO : EPOCH 3 - PROGRESS: at 66.06% examples, 199631 words/s, in_qsize 7, out_qsize 0\n",
      "2022-06-06 11:24:18,205 : INFO : EPOCH 3 - PROGRESS: at 76.07% examples, 196149 words/s, in_qsize 7, out_qsize 0\n",
      "2022-06-06 11:24:19,208 : INFO : EPOCH 3 - PROGRESS: at 86.28% examples, 196201 words/s, in_qsize 7, out_qsize 0\n",
      "2022-06-06 11:24:20,249 : INFO : EPOCH 3 - PROGRESS: at 98.14% examples, 198594 words/s, in_qsize 5, out_qsize 0\n",
      "2022-06-06 11:24:20,380 : INFO : EPOCH 3: training on 2512719 raw words (1922348 effective words) took 9.6s, 199788 effective words/s\n",
      "2022-06-06 11:24:21,385 : INFO : EPOCH 4 - PROGRESS: at 11.90% examples, 226490 words/s, in_qsize 7, out_qsize 0\n",
      "2022-06-06 11:24:22,385 : INFO : EPOCH 4 - PROGRESS: at 23.71% examples, 229969 words/s, in_qsize 7, out_qsize 0\n",
      "2022-06-06 11:24:23,415 : INFO : EPOCH 4 - PROGRESS: at 35.49% examples, 227052 words/s, in_qsize 7, out_qsize 0\n",
      "2022-06-06 11:24:24,422 : INFO : EPOCH 4 - PROGRESS: at 47.83% examples, 228401 words/s, in_qsize 8, out_qsize 0\n",
      "2022-06-06 11:24:25,462 : INFO : EPOCH 4 - PROGRESS: at 60.51% examples, 229475 words/s, in_qsize 7, out_qsize 0\n",
      "2022-06-06 11:24:26,490 : INFO : EPOCH 4 - PROGRESS: at 73.77% examples, 231782 words/s, in_qsize 7, out_qsize 0\n",
      "2022-06-06 11:24:27,533 : INFO : EPOCH 4 - PROGRESS: at 86.28% examples, 231929 words/s, in_qsize 7, out_qsize 0\n",
      "2022-06-06 11:24:28,555 : INFO : EPOCH 4 - PROGRESS: at 98.89% examples, 232543 words/s, in_qsize 3, out_qsize 1\n",
      "2022-06-06 11:24:28,601 : INFO : EPOCH 4: training on 2512719 raw words (1922547 effective words) took 8.2s, 233957 effective words/s\n",
      "2022-06-06 11:24:28,601 : INFO : Word2Vec lifecycle event {'msg': 'training on 12563595 raw words (9612789 effective words) took 45.1s, 213042 effective words/s', 'datetime': '2022-06-06T11:24:28.601322', 'gensim': '4.2.0', 'python': '3.9.13 (tags/v3.9.13:6de2ca5, May 17 2022, 16:36:42) [MSC v.1929 64 bit (AMD64)]', 'platform': 'Windows-10-10.0.19042-SP0', 'event': 'train'}\n"
     ]
    },
    {
     "name": "stderr",
     "output_type": "stream",
     "text": [
      "2022-06-06 11:24:28,602 : INFO : Word2Vec lifecycle event {'params': 'Word2Vec<vocab=6494, vector_size=50, alpha=0.025>', 'datetime': '2022-06-06T11:24:28.602321', 'gensim': '4.2.0', 'python': '3.9.13 (tags/v3.9.13:6de2ca5, May 17 2022, 16:36:42) [MSC v.1929 64 bit (AMD64)]', 'platform': 'Windows-10-10.0.19042-SP0', 'event': 'created'}\n",
      "2022-06-06 11:24:28,602 : INFO : Word2Vec lifecycle event {'fname_or_handle': 'My_Word2Vec', 'separately': 'None', 'sep_limit': 10485760, 'ignore': frozenset(), 'datetime': '2022-06-06T11:24:28.602321', 'gensim': '4.2.0', 'python': '3.9.13 (tags/v3.9.13:6de2ca5, May 17 2022, 16:36:42) [MSC v.1929 64 bit (AMD64)]', 'platform': 'Windows-10-10.0.19042-SP0', 'event': 'saving'}\n",
      "2022-06-06 11:24:28,604 : INFO : not storing attribute cum_table\n",
      "2022-06-06 11:24:28,615 : INFO : saved My_Word2Vec\n"
     ]
    }
   ],
   "source": [
    "# Initialize and train the model (this will take some time)\n",
    "from gensim.models import word2vec\n",
    "print (\"Training model...\")\n",
    "model = word2vec.Word2Vec(X_train, workers=num_workers,  min_count = min_word_count, \\\n",
    "            window = context, vector_size = vector_size, sample = downsampling, sg = 1)\n",
    "\n",
    "\n",
    "# It can be helpful to create a meaningful model name and \n",
    "# save the model for later use. You can load it later using Word2Vec.load()\n",
    "model_name = \"My_Word2Vec\"\n",
    "model.save(model_name)"
   ]
  },
  {
   "cell_type": "code",
   "execution_count": 182,
   "id": "e1fd6746",
   "metadata": {},
   "outputs": [
    {
     "name": "stdout",
     "output_type": "stream",
     "text": [
      "dict_keys([' i', ' s', ' movie', ' film', ' the', ' it', ' nt', ' like', ' time', ' good', ' character', ' this', ' story', ' scene', ' and', ' do', ' a', ' people', ' bad', ' great', ' you', ' there', ' way', ' he', ' that', ' thing', ' but', ' think', ' life', ' know', ' is', ' watch', ' seen', ' actor', ' plot', ' in', ' love', ' look', ' little', ' year', ' end', ' acting', ' best', ' one', ' man', ' better', ' come', ' work', ' m', ' ve', ' did', ' doe', 'i', ' all', ' want', ' they', ' lot', ' if', ' director', ' real', ' woman', ' performance', ' make', ' watching', ' play', ' guy', ' actually', ' new', ' role', ' funny', ' old', ' she', ' going', ' point', ' not', ' show', ' cast', ' well', ' girl', ' what', ' fact', ' world', ' re', ' day', ' got', ' feel', ' pretty', ' young', ' get', ' ca', ' wa', ' minute', ' thought', ' star', ' comedy', ' action', ' horror', 'this', ' right', ' bit', ' original', ' big', ' family', ' so', ' series', ' fan', ' long', ' line', ' saw', ' friend', ' try', ' go', ' interesting', ' set', ' script', ' kid', ' me', ' kind', ' music', ' ll', ' reason', ' start', ' shot', ' d', ' book', ' we', ' far', ' probably', ' here', ' moment', ' effect', ' however', ' on', ' worst', ' away', ' need', ' child', ' place', ' tv', ' idea', ' sure', ' audience', ' making', ' turn', ' tell', ' for', ' fun', ' played', ' course', ' especially', ' who', ' let', ' episode', ' believe', ' trying', ' having', ' take', ' mean', ' hard', ' job', ' her', ' version', ' ending', ' american', ' them', ' dvd', ' different', ' him', ' money', ' of', ' screen', ' problem', ' looking', ' main', ' true', ' to', ' sense', ' maybe', ' help', ' war', ' worth', ' second', ' house', ' watched', ' said', ' no', ' night', ' instead', ' wife', ' later', ' left', ' john', ' say', ' when', ' again', ' father', ' with', ' beautiful', ' lead', ' boy', ' out', ' special', ' seeing', ' death', ' viewer', ' read', ' mind', ' classic', ' hour', ' excellent', ' nice', ' laugh', ' at', ' then', ' simply', ' part', ' black', ' short', ' could', ' eye', ' sound', ' piece', ' high', ' completely', ' men', ' home', ' production', ' picture', ' now', ' song', ' face', ' rest', ' even', ' poor', ' given', ' my', ' human', ' hollywood', ' enjoy', ' wrong', ' boring', ' kill', ' use', ' too', ' couple', ' dead', ' give', ' head', ' word', ' hand', ' are', ' video', ' half', ' why', ' hope', ' came', ' truly', ' camera', ' though', ' sort', ' recommend', ' see', ' remember', ' killer', 'the', ' mr', ' getting', ' brother', ' understand', ' case', ' school', ' stupid', ' run', ' person', ' sequence', ' dialogue', ' sex', ' awful', ' wonderful', ' up', ' attempt', ' care', ' his', ' small', ' fall', ' playing', ' terrible', ' perfect', ' joke', ' style', ' also', ' act', ' title', ' flick', ' felt', ' example', ' early', ' or', ' definitely', ' game', ' mother', ' supposed', ' cinema', ' feeling', ' art', ' liked', ' review', ' lost', ' actress', ' begin', ' would', ' budget', ' went', ' entire', ' waste', ' written', ' evil', ' car', ' writer', ' live', ' certainly', ' quality', ' son', ' beginning', ' absolutely', ' drama', ' after', ' finally', ' worse', ' while', ' white', ' lack', ' direction', ' entertaining', ' favorite', ' murder', ' comment', ' fight', ' number', ' which', ' loved', ' meet', ' yes', ' feature', ' have', ' wanted', ' heart', ' dark', ' u', ' relationship', ' totally', ' change', ' how', ' based', ' some', ' final', ' humor', ' matter', ' writing', ' low', ' guess', ' event', ' past', ' amazing', ' daughter', ' able', ' fine', ' called', ' voice', ' genre', ' age', ' history', ' unfortunately', ' oh', ' just', ' hero', ' despite', ' today', ' gave', ' wo', ' michael', ' cut', ' type', ' town', ' city', ' enjoyed', ' hit', ' first', ' experience', ' more', ' theme', ' horrible', ' expect', ' power', ' soon', ' thinking', ' wonder', ' talent', ' obviously', ' zombie', ' body', ' credit', ' decent', ' blood', ' save', ' directed', ' stuff', ' musical', ' chance', ' question', ' be', ' overall', ' close', ' add', ' group', ' level', ' element', ' stop', ' lady', ' late', ' score', ' wish', ' leave', ' heard', ' brilliant', ' stand', ' god', ' situation', ' novel', ' killed', ' highly', ' took', ' particularly', ' other', ' view', ' find', ' police', ' career', ' robert', ' from', ' order', ' happened', ' obvious', ' strong', ' talk', ' made', ' violence', ' living', ' happens', ' country', ' extremely', ' dream', ' light', ' much', ' husband', ' before', ' including', ' theater', ' involved', ' james', ' opinion', ' sister', ' although', ' room', ' told', ' filmmaker', ' female', ' reality', ' off', 'a', ' twist', ' hell', ' coming', ' looked', ' etc', ' happen', ' simple', ' complete', ' exactly', ' taken', ' shown', ' rating', ' cinematography', ' documentary', ' effort', ' ago', ' king', ' opening', ' usually', ' known', ' slow', ' scary', ' released', ' crap', ' value', ' somewhat', ' hilarious', ' sequel', ' street', ' running', ' season', ' possible', ' miss', ' deal', ' stay', ' message', ' comic', ' started', ' gore', ' rock', ' sad', ' cool', ' annoying', ' seriously', ' david', ' figure', ' usual', ' ridiculous', ' thriller', ' return', ' about', ' english', ' local', ' huge', ' talking', ' major', ' saying', ' adult', ' tale', ' strange', ' taking', ' knew', ' supporting', ' ever', ' future', ' jack', ' mention', ' oscar', ' apparently', ' hate', ' important', ' single', ' clearly', ' mystery', ' bring', ' animation', ' happy', ' cop', ' by', ' attention', ' anyway', ' monster', ' surprise', ' very', ' british', ' television', ' member', ' dialog', ' nothing', ' george', ' back', ' basically', ' result', ' romantic', ' easily', ' turned', ' villain', ' paul', ' disappointed', ' silly', ' another', ' open', ' really', ' earth', ' producer', ' modern', ' aspect', ' class', ' doubt', ' release', ' peter', ' giving', ' cheap', ' appears', ' parent', ' form', ' entertainment', ' storyline', ' similar', ' predictable', ' image', ' ok', ' break', ' team', ' state', ' hold', ' enjoyable', ' bunch', ' dull', ' crime', ' ha', ' dance', ' lee', ' showing', ' viewing', ' killing', ' gun', ' present', ' b', ' buy', ' actual', ' york', ' surprised', ' emotion', ' moving', ' dog', ' name', ' clear', ' subject', ' middle', ' most', ' richard', ' setting', ' material', ' named', ' tried', ' standard', ' general', ' period', ' were', ' baby', ' spoiler', ' fantastic', ' note', ' nearly', ' straight', ' check', ' french', ' certain', ' soundtrack', ' near', ' force', ' working', ' easy', ' weak', ' gone', ' greatest', ' something', ' these', ' wait', ' famous', ' red', ' soldier', ' battle', ' brought', ' disney', ' student', ' particular', ' stage', ' editing', ' filmed', ' sorry', ' victim', ' tom', ' kept', ' yet', ' western', ' space', ' america', ' cartoon', ' together', ' typical', ' learn', ' two', ' animal', ' mark', ' screenplay', ' hear', ' only', ' fast', ' premise', ' atmosphere', ' fit', ' follow', ' nature', ' die', ' romance', ' society', ' decided', ' realistic', ' leaf', ' forget', ' an', ' joe', ' expected', ' issue', ' cause', ' truth', ' rent', ' possibly', ' male', ' reading', ' enough', ' needed', ' sit', ' lame', ' remake', ' th', ' poorly', ' walk', ' studio', ' background', ' suspense', ' imagine', ' eventually', ' average', ' still', ' avoid', ' offer', ' escape', ' keep', ' doctor', ' believable', ' choice', ' pay', ' masterpiece', ' down', ' match', ' beauty', ' secret', ' either', ' sexual', ' fantasy', ' drug', ' focus', ' difficult', ' accent', ' development', ' realize', ' over', ' else', ' la', ' shame', ' crazy', ' interested', ' memorable', ' vampire', ' footage', ' dramatic', ' hot', ' touch', ' wood', ' had', ' write', ' copy', ' perfectly', ' fear', ' earlier', ' because', ' emotional', ' forced', ' move', ' win', ' older', ' worked', ' everyone', ' once', ' lover', ' powerful', ' incredibly', ' done', ' weird', ' superb', ' japanese', ' badly', ' brings', ' free', ' admit', ' directing', ' party', ' forward', ' total', ' ask', ' leading', ' adventure', ' dr', ' imdb', ' quickly', ' cover', ' cheesy', ' previous', ' will', ' spirit', ' gay', ' award', ' jane', ' appear', ' plenty', ' deep', ' pick', ' personal', ' plus', ' plan', ' mess', ' cat', ' potential', ' political', ' himself', ' ghost', ' week', ' deserves', ' expecting', ' creepy', ' unique', ' costume', ' project', ' inside', ' create', ' box', ' band', ' air', ' success', ' rate', ' hardly', ' fighting', ' married', ' girlfriend', ' casting', ' fails', ' should', ' outside', ' location', ' rich', ' ben', ' meant', ' agree', ' mistake', ' nudity', ' attack', ' dumb', ' business', ' trouble', ' missing', ' appearance', ' perhaps', ' german', ' color', ' stick', ' recently', ' public', ' list', ' christmas', ' bill', ' where', ' apart', ' fairly', ' term', ' alien', ' portrayed', ' cute', ' company', ' everything', ' decides', ' scifi', ' player', ' water', ' chase', ' portrayal', ' others', ' sweet', ' missed', ' crew', ' flat', ' catch', ' plain', ' odd', ' tension', ' acted', ' pace', ' mentioned', ' talented', ' social', ' around', ' large', ' pure', ' both', ' caught', ' william', ' anyone', ' store', ' concept', ' waiting', ' telling', ' okay', ' memory', ' depth', ' office', ' unlike', ' manages', ' incredible', ' can', ' wrote', ' us', ' island', ' throw', ' laughing', ' created', ' era', ' shoot', ' italian', ' control', ' scott', ' slightly', ' tony', ' master', ' detail', ' ended', ' respect', ' through', ' please', ' spent', ' century', ' popular', ' visual', ' entirely', ' pull', ' tone', ' soul', ' cold', ' compared', ' bored', ' door', ' suddenly', ' wasted', ' filled', ' sadly', ' violent', ' language', ' considering', ' channel', ' extra', ' reviewer', ' shooting', ' successful', ' biggest', ' adaptation', ' ability', ' convincing', ' many', ' clever', ' younger', ' critic', ' brain', ' appreciate', ' creature', ' spend', ' recent', ' dancing', ' revenge', ' mary', ' drive', ' positive', ' basic', ' died', ' detective', ' ring', ' solid', ' dad', ' exciting', ' belief', ' trailer', ' following', ' speak', ' van', ' planet', ' maker', 'it', ' appeal', ' indian', ' anything', ' purpose', ' itself', ' slasher', ' animated', ' intelligent', ' taste', ' familiar', ' singing', ' answer', ' frank', ' building', ' effective', ' bizarre', ' artist', ' camp', ' decide', ' won', ' criminal', ' considered', ' carry', ' science', ' culture', ' put', ' showed', ' amusing', ' follows', ' side', ' capture', ' conclusion', ' harry', ' million', ' ultimately', ' step', ' trip', ' college', ' surprisingly', ' trash', ' last', ' changed', ' barely', ' prison', ' charming', ' sick', ' impossible', ' common', ' involving', ' hole', ' track', ' mad', ' produced', ' leaving', ' flaw', ' hair', ' law', ' consider', ' natural', ' spot', ' every', ' honest', ' meaning', ' pointless', ' impressive', ' difference', ' struggle', ' suspect', ' date', ' blue', ' disturbing', ' chemistry', ' road', ' starring', ' teen', ' sitting', ' genius', ' foot', ' excuse', ' hurt', ' agent', ' fake', ' awesome', ' normal', ' exception', ' personality', ' lie', ' utterly', ' steve', ' failed', ' opportunity', ' longer', ' scientist', ' wild', ' aside', ' giant', ' literally', ' london', ' bought', ' edge', ' army', ' west', ' generally', ' glad', ' charm', ' area', ' tough', ' yeah', ' south', ' pathetic', ' manner', ' cult', ' suck', ' since', ' explain', ' beat', ' being', ' t', ' naked', ' jim', ' jump', ' government', ' recommended', ' flashback', ' journey', ' club', ' finish', ' approach', ' steal', ' thanks', ' stewart', ' walking', ' smith', ' train', ' skill', ' managed', ' rare', ' sexy', ' mood', ' ride', ' pain', ' humour', ' such', ' festival', ' equally', ' alive', ' military', ' serial', ' bother', ' le', ' chris', ' cost', ' folk', ' key', ' page', ' expectation', ' design', ' touching', ' magic', ' nightmare', ' complex', ' horse', ' remains', ' fair', ' de', ' outstanding', ' narrative', ' gem', ' batman', ' graphic', ' knowing', ' fully', ' gang', ' wall', ' share', ' bar', ' thank', ' immediately', ' shock', ' decade', ' claim', ' subtle', ' fiction', ' medium', ' tear', ' beautifully', ' sam', ' land', ' garbage', ' support', ' treat', ' christopher', ' terrific', ' honestly', ' unbelievable', ' happening', ' rule', ' charlie', ' impression', ' christian', ' count', ' innocent', ' notice', ' hotel', ' added', ' hoping', ' affair', ' motion', ' teenager', ' witch', ' presence', ' central', ' surely', ' build', ' thrown', ' marriage', ' disappointing', ' constantly', ' laughable', ' mysterious', ' makeup', ' ship', ' reference', ' lesson', ' heavy', ' minor', ' adam', ' bond', ' bed', ' justice', ' self', ' likely', ' cry', ' stunning', ' climax', ' pas', ' everybody', ' loud', ' cinematic', ' silent', ' disappointment', ' mainly', ' personally', ' presented', ' gag', ' cameo', ' suit', ' machine', ' henry', ' kelly', ' na', ' moral', ' boyfriend', ' brief', ' bos', ' smart', ' bear', ' fascinating', ' rated', ' photography', ' stone', ' slowly', ' painful', ' segment', ' filming', ' scenery', ' drawn', ' ahead', ' race', ' bruce', ' contains', ' f', ' hey', ' charles', ' tragedy', ' angle', ' lovely', ' protagonist', ' never', ' own', ' tired', ' mom', ' sign', ' twice', ' church', ' hill', ' fellow', ' al', ' historical', ' park', ' dy', ' rape', ' month', ' falling', ' content', ' throughout', ' suppose', ' allen', ' forever', ' themselves', ' green', ' negative', ' extreme', ' addition', ' plane', ' reaction', ' available', ' billy', ' phone', ' queen', ' compelling', ' appeared', ' scream', ' someone', ' include', ' intended', ' ground', ' paid', ' sent', ' jerry', ' laughed', ' summer', ' wind', ' scare', ' mix', ' likable', ' teacher', ' officer', ' call', ' born', ' imagination', ' angel', ' those', ' followed', ' desire', ' jones', ' impact', ' ray', ' zero', ' thats', ' any', ' along', ' vision', ' suggest', ' buddy', ' mile', ' opera', ' finding', ' paris', ' wondering', ' putting', ' epic', ' developed', ' lord', ' sleep', ' werewolf', ' top', ' favourite', ' fashion', ' fell', ' damn', ' professional', ' castle', ' apartment', ' lived', ' mouth', ' confused', ' conflict', ' lose', ' grace', ' compare', ' least', ' alone', ' fresh', ' martin', ' grade', ' tragic', ' theatre', ' hospital', 'in', ' individual', ' sight', ' porn', ' gorgeous', ' uncle', ' prof', ' kick', ' random', ' confusing', ' flying', ' wear', ' lighting', ' turning', ' creative', ' reminded', ' jackson', ' commentary', ' supposedly', ' station', ' stuck', ' speaking', ' alan', ' superior', ' pleasure', ' mediocre', ' childhood', ' delivers', ' demon', ' collection', ' attractive', ' noir', ' thoroughly', ' field', ' their', ' don', ' record', 'if', ' reach', ' nasty', ' decision', ' clue', ' pilot', ' shocking', ' absolute', ' funniest', ' martial', ' double', ' smile', ' led', ' intense', ' ball', ' sport', ' heaven', ' ii', ' gangster', ' commercial', ' travel', ' forgotten', ' information', ' blame', ' hidden', ' ugly', ' wooden', ' v', ' merely', ' fault', ' fox', ' pop', ' afraid', ' tarzan', ' singer', ' russian', ' partner', ' interview', ' seemingly', ' roll', ' danny', ' c', ' next', ' legend', ' asks', ' cliché', ' captain', ' instance', ' impressed', ' model', ' includes', ' disaster', ' stereotype', ' movement', ' interest', ' visit', ' anymore', ' allowed', ' seven', ' accident', ' chinese', ' fly', ' clothes', ' trust', ' scared', ' rented', ' moved', ' hunter', ' drag', ' search', ' listen', ' provides', ' inspired', ' davis', ' held', ' mental', ' picked', ' desperate', ' worthy', ' river', ' arthur', ' industry', ' teenage', ' wedding', ' redeeming', ' sometimes', ' super', ' realized', ' st', ' highlight', 'what', ' strength', ' stephen', ' angry', ' hitler', ' wonderfully', ' study', ' fred', ' quick', ' news', ' helped', ' owner', ' ready', ' connection', ' williams', ' enemy', ' energy', ' passion', ' accept', ' wearing', ' dollar', ' attitude', ' direct', ' weapon', ' program', ' ed', ' jeff', ' explanation', ' dirty', ' deliver', ' encounter', ' draw', ' window', ' artistic', ' skip', ' food', ' dying', ' author', ' technical', ' jason', ' devil', ' promise', ' fire', ' expression', ' willing', ' began', ' johnny', ' robot', ' continue', ' process', ' bloody', ' chick', ' filmmaking', ' community', ' unusual', ' joy', ' deeply', ' indeed', ' judge', ' anybody', ' center', ' torture', ' superman', ' introduced', ' sky', ' england', ' intelligence', ' remarkable', ' independent', ' leader', ' friendship', ' buck', ' comedic', ' none', ' necessary', ' european', 'there', ' rise', ' display', ' andy', ' suicide', ' douglas', ' unknown', ' finished', ' asked', ' grand', ' arm', ' ford', ' surprising', ' whatsoever', ' brian', ' originally', ' wanting', ' witness', ' vehicle', ' reminds', ' apparent', ' mike', ' rarely', ' tim', ' hated', ' comparison', ' mountain', ' burn', ' limited', ' absurd', ' provide', ' eddie', ' prince', ' pacing', 'when', ' mission', ' allow', ' perspective', ' same', ' winning', ' intention', ' jr', ' shadow', ' floor', ' dozen', ' blow', ' academy', ' daniel', ' cgi', ' somebody', ' tape', ' always', ' intriguing', ' constant', ' quiet', ' jesus', ' length', ' heroine', ' clichés', ' sat', ' three', ' unnecessary', ' price', ' dick', ' nick', ' failure', ' vote', ' freddy', ' taylor', ' regular', ' ruin', ' drunk', ' engaging', ' lacking', ' physical', ' deserve', ' keaton', ' exist', ' thousand', ' featuring', ' cage', ' generation', ' identity', ' radio', ' understanding', ' spanish', ' nicely', ' kinda', ' behavior', ' trick', ' sell', ' bank', ' dangerous', ' religious', ' private', ' humanity', ' lynch', ' wow', ' warning', ' native', ' idiot', ' youth', ' saved', ' ie', ' fail', ' loss', ' moon', ' mask', ' gotten', ' opposite', ' hide', ' satire', ' screaming', ' creating', ' except', ' faith', ' kate', ' brutal', ' japan', ' vhs', ' numerous', ' pulled', ' according', ' shakespeare', ' nonsense', ' met', ' drop', ' sean', ' nazi', ' blonde', ' fool', ' watchable', ' higher', ' loses', ' trek', ' village', ' knowledge', ' shop', ' lowbudget', ' myself', ' produce', ' dealing', ' unfunny', ' frame', ' responsible', ' normally', ' santa', ' growing', ' simon', ' andrew', ' otherwise', ' bigger', ' washington', ' cross', ' discover', ' desert', ' terribly', ' bomb', ' round', ' fate', ' welles', ' speed', ' international', ' bet', ' favor', ' whilst', ' treated', ' site', ' blind', ' revealed', ' board', ' manage', ' fat', ' ann', ' president', ' finest', ' dressed', ' broken', ' stunt', ' soap', ' insult', ' aware', ' product', ' rose', ' pretentious', ' may', ' gene', ' bland', ' france', ' loose', ' parody', ' cable', ' r', ' candy', ' wave', ' joan', ' conversation', ' delightful', ' saving', ' kong', ' grant', ' toy', ' advice', ' driving', ' starting', ' context', ' psychological', ' harris', ' ultimate', ' leg', ' nation', ' deserved', ' tune', ' eat', ' current', ' technique', ' mixed', ' tree', ' morning', ' genuinely', ' noticed', ' loving', ' explained', ' meeting', ' discovered', ' stock', ' magnificent', ' witty', ' allows', ' luke', ' insight', ' post', ' albert', ' occasionally', ' golden', ' dated', ' bob', ' jimmy', ' bright', ' accurate', ' yourself', ' speech', ' without', ' gold', ' seek', ' captured', ' ordinary', ' prove', ' bug', ' kevin', ' crappy', ' source', ' technology', ' treatment', ' humorous', ' rescue', ' jean', ' brown', ' keeping', ' howard', ' portray', ' debut', ' concerned', ' strike', ' dress', ' morgan', ' sheer', ' unable', ' murdered', ' sea', ' sake', ' seat', ' essentially', ' test', ' recall', ' routine', ' included', ' creates', ' passed', ' survive', ' corny', ' winner', ' develop', ' clean', ' gary', ' genuine', ' category', ' hank', ' parker', ' caused', ' ice', ' religion', ' paper', ' shine', ' path', ' discovers', ' pair', ' gon', ' hat', ' degree', ' edited', ' crash', ' hint', ' rubbish', ' proved', ' visuals', ' concern', ' performer', ' delivered', ' lake', ' priest', ' jennifer', ' anthony', ' circumstance', ' realism', ' anime', ' finale', ' naturally', ' shallow', ' underrated', ' boat', ' experiment', ' lucky', ' continues', ' national', ' existence', ' range', ' sheriff', ' luck', ' target', ' gory', ' influence', ' curious', ' challenge', ' learned', ' proper', ' ran', ' spectacular', ' germany', ' section', ' your', ' traditional', ' evening', ' majority', ' endless', ' grew', ' service', ' paint', ' matt', ' unexpected', ' eric', ' clip', ' device', ' hearing', ' moore', ' must', ' dan', ' wit', ' sing', ' combination', ' dreadful', ' relate', ' awkward', ' chief', ' overly', ' standing', ' dragon', ' patient', ' walter', ' wise', ' theory', ' relief', ' rob', ' danger', ' p', ' contrast', ' raise', ' anderson', ' sinatra', ' sum', ' cinderella', ' asking', ' print', ' whatever', ' factor', ' victor', ' stranger', ' victoria', ' account', ' dancer', ' pleasant', ' suffering', ' bridge', ' received', ' anna', ' research', ' spy', ' lawyer', ' executed', ' wide', ' freedom', ' described', ' ancient', ' utter', ' dry', ' handle', ' crowd', ' stopped', ' mass', ' ryan', ' roy', ' frankly', ' sudden', ' portraying', ' veteran', ' statement', ' steven', ' thrill', ' canadian', ' foreign', ' card', ' gratuitous', ' chosen', ' eating', ' lesbian', ' painfully', ' formula', ' join', ' logic', ' patrick', ' brilliantly', ' portrays', ' visually', ' emotionally', ' haunting', ' pile', ' insane', ' driver', ' thomas', ' psycho', ' grow', ' learns', ' laughter', ' marry', ' choose', ' entertained', ' louis', ' depressing', ' quote', ' jackie', ' letter', ' grown', ' comedian', ' halloween', ' winter', ' spoil', ' network', ' scenario', ' amateur', ' spoof', ' barbara', ' remembered', ' excited', ' cowboy', ' disgusting', ' contrived', ' ruined', ' glass', ' sucked', ' x', ' till', ' assume', ' complaint', ' training', ' expert', ' largely', ' handsome', ' uk', ' regard', ' guard', ' punch', ' joseph', ' subtitle', ' professor', ' blockbuster', ' drew', ' fu', ' pity', ' naive', ' robin', ' table', ' object', ' aka', ' asian', ' strongly', ' pacino', ' australian', ' initial', ' bird', ' fare', ' surreal', ' irritating', ' embarrassing', ' lousy', ' monkey', ' fame', ' neighbor', ' lewis', ' columbo', ' rain', ' charge', ' condition', ' hunt', ' worker', ' contemporary', ' dubbed', ' loser', ' depiction', ' safe', ' full', ' losing', ' excitement', ' weekend', ' mirror', ' motivation', ' besides', ' wayne', ' built', ' regret', ' evidence', ' bringing', ' woody', ' relative', ' edward', ' baseball', ' gordon', ' saturday', ' task', ' powell', ' obsessed', ' amateurish', ' explosion', ' load', ' heck', ' market', ' trial', ' oliver', ' involves', ' capable', ' hall', ' reporter', ' practically', ' hopefully', ' russell', ' hanging', ' nancy', ' substance', ' continuity', ' soft', ' lower', ' unrealistic', ' cash', ' almost', ' theatrical', ' rental', ' dude', ' virtually', ' trilogy', ' position', ' beach', ' thief', ' satisfying', ' sympathetic', ' max', ' tend', ' haunted', ' brave', ' department', ' handled', ' horribly', ' magical', ' mouse', ' appealing', ' remain', ' relatively', ' teach', ' screenwriter', ' europe', ' tiny', ' refuse', ' clark', ' express', ' politics', ' broadway', ' skin', ' halfway', ' wake', ' nominated', ' offensive', ' depicted', ' yearold', ' guilty', ' criticism', ' flesh', ' rip', ' appropriate', ' chose', ' ten', ' correct', ' promising', ' closer', ' north', ' viewed', ' princess', ' creator', ' send', ' storytelling', ' forest', ' murderer', 'first', ' overthetop', ' shocked', ' deadly', ' realizes', ' unlikely', ' covered', ' j', ' as', ' noise', ' progress', ' previously', ' terror', 'after', ' sword', ' bullet', ' abuse', ' mainstream', ' often', ' interpretation', ' glimpse', ' wilson', ' wing', ' che', ' peace', ' provided', ' tedious', ' each', ' aunt', ' been', ' rank', ' nude', ' execution', ' flow', ' suffers', ' closeup', ' asleep', ' drink', ' revolution', ' convinced', ' invisible', ' guest', ' friday', ' topic', 'well', ' atrocious', ' united', ' massive', ' ton', ' exploitation', ' tradition', ' hang', ' murphy', ' bat', ' maria', ' refreshing', ' jungle', ' breaking', ' pitt', ' welcome', ' birth', ' scale', ' destroy', ' texas', ' bus', ' rival', ' holding', ' surface', ' bbc', ' football', ' repeated', ' fairy', ' poster', ' structure', ' court', ' melodrama', ' truck', ' description', ' hood', ' mexican', ' universe', ' speaks', ' dinosaur', ' hitchcock', ' warm', ' mere', 'one', ' blah', ' abandoned', ' reveal', ' harsh', ' sympathy', ' latest', ' foster', ' accidentally', ' honor', ' hoffman', ' african', ' believed', ' h', ' duke', ' hired', ' convince', ' listening', ' twin', ' multiple', ' cell', ' herself', ' beast', ' sir', ' base', ' effectively', ' recognize', ' treasure', ' focused', ' league', ' lisa', ' code', ' occasional', ' donald', ' tie', ' painting', ' anne', ' combined', ' rachel', ' lugosi', ' intellectual', ' needle', ' worthwhile', ' forgettable', ' during', ' experienced', ' mexico', ' indie', ' anger', ' enter', ' summary', ' directly', ' designed', ' doll', ' performed', ' system', ' ai', ' merit', ' stolen', ' alice', ' alex', ' gritty', ' supernatural', ' cutting', ' branagh', ' jail', ' praise', ' grim', ' inner', ' am', ' africa', ' warner', ' unfortunate', ' remotely', ' propaganda', ' possibility', ' root', ' emma', ' mgm', ' reputation', ' suspenseful', ' erotic', ' buff', ' explains', ' walked', ' quest', ' citizen', ' figured', ' lifetime', ' paced', ' dean', ' serf', ' ala', ' lonely', ' prime', ' gas', ' exact', ' rather', ' frightening', ' border', ' relation', ' kiss', ' bride', ' turkey', ' demand', ' downright', ' sin', ' required', ' sitcom', ' core', ' achieve', ' variety', ' slapstick', ' goal', ' prior', ' matrix', ' fabulous', ' shape', ' passing', ' san', ' landscape', ' proud', ' roger', ' kim', ' bore', ' sensitive', ' andor', ' struggling', ' knife', ' cruel', ' method', ' offered', ' freeman', ' larry', ' ignore', ' featured', ' facial', ' bourne', ' vietnam', ' forth', ' repeat', ' jon', ' china', ' committed', ' our', ' narration', ' julia', ' beloved', ' von', ' delivery', ' johnson', ' pack', ' false', ' twisted', ' understood', ' aid', ' desperately', ' trapped', ' few', ' universal', ' prisoner', ' bothered', ' granted', ' clichéd', ' sleeping', ' racist', ' ill', ' breast', ' serious', ' uninteresting', ' sharp', ' screening', ' philip', ' reveals', ' format', ' destroyed', ' california', ' susan', ' risk', ' friendly', ' sarah', ' cousin', ' midnight', ' teeth', ' fictional', ' paying', ' hardy', ' outfit', ' unconvincing', ' bollywood', ' legendary', ' darkness', ' faithful', ' executive', ' meanwhile', ' significant', ' o', ' helping', ' rush', ' crude', ' hong', ' chair', ' usa', ' irish', ' spends', ' imagery', ' junk', ' kung', ' reed', ' manager', ' prefer', ' inept', ' lion', 'my', ' ron', ' stereotypical', ' upset', ' sunday', ' already', ' photo', ' sutherland', ' necessarily', ' convey', ' flight', ' spite', ' navy', ' critical', ' flash', ' driven', ' chan', ' amazed', ' string', ' entry', ' closing', ' india', ' mature', ' changing', ' happiness', ' dennis', ' knock', ' delight', ' throwing', ' amazingly', ' pet', ' introduction', ' cultural', ' fbi', ' cooper', ' colour', ' stayed', ' raised', ' learning', ' bmovie', ' blown', ' sounded', ' afternoon', ' unless', ' terrorist', ' extraordinary', ' environment', ' protect', ' worry', ' hire', ' occasion', ' warrior', ' suffer', ' rat', ' interaction', ' determined', ' survivor', ' elizabeth', ' whole', ' funnier', ' inspector', ' marie', ' advantage', ' ted', ' tracy', ' push', ' warned', ' reminiscent', ' snake', ' alright', ' host', ' buying', ' brook', ' freak', ' franchise', ' contact', ' comical', ' sinister', ' separate', ' corner', ' extent', ' pregnant', ' appreciated', ' stretch', ' storm', ' thirty', ' metal', ' everyday', ' sandler', ' mildly', ' disbelief', ' carried', ' security', ' complicated', ' grab', ' placed', ' text', ' socalled', ' balance', ' notable', ' cabin', ' sidney', ' gruesome', ' remote', ' thankfully', ' dare', ' caine', ' calling', ' incident', ' heavily', ' bound', ' blair', ' mansion', ' embarrassed', ' mate', ' starred', ' somehow', ' succeeds', ' behind', ' bo', ' claire', ' magazine', ' drinking', ' mob', ' shower', ' sold', ' gift', ' burt', ' sun', ' lincoln', ' fourth', ' remind', ' ripoff', ' gain', ' quirky', ' urban', ' stanley', ' dig', ' ta', ' serve', ' obsession', ' stomach', ' ned', ' argument', ' breathtaking', ' bag', ' renting', ' properly', ' nowhere', ' deeper', ' carrying', ' rogers', ' raw', ' initially', ' subplot', ' miller', ' purely', ' rolling', ' exists', ' dislike', ' preview', ' touched', ' nose', ' error', ' lane', ' portrait', ' inspiration', ' jessica', ' served', ' user', ' creation', ' michelle', ' notorious', ' underground', ' locked', ' leslie', ' daily', ' principal', ' riding', ' basis', ' beer', ' cook', ' ironic', ' related', ' stanwyck', ' forgot', ' brad', ' rough', ' julie', ' jewish', ' grave', ' dentist', ' revelation', ' ralph', ' christ', ' hundred', ' tight', ' contain', ' finger', ' jake', ' campy', ' nowadays', ' sleazy', ' ad', ' curse', ' titanic', ' crisis', ' enjoying', ' spoken', ' gut', ' ear', ' achievement', ' spell', ' strangely', ' holiday', ' entertain', ' trap', ' ashamed', ' attacked', ' circle', ' originality', ' stupidity', ' attempting', ' ticket', ' fallen', ' noble', ' fortune', ' homage', ' streisand', ' jay', ' characterization', ' mentally', ' virgin', ' replaced', ' reunion', ' nonexistent', ' equal', ' tense', ' gross', ' vega', ' shut', ' assistant', ' doing', ' holmes', ' prepared', ' silver', ' n', ' writerdirector', ' essential', ' carpenter', ' greater', ' flawed', ' successfully', ' retarded', ' credibility', ' medical', ' bone', ' shoe', ' caring', ' sullivan', ' attraction', ' southern', ' laura', ' widmark', ' setup', ' proof', ' spring', ' lazy', ' breath', ' ape', ' pretend', ' hamlet', ' italy', ' nevertheless', ' arnold', ' limit', ' blend', ' thrilling', ' credible', ' slave', ' confusion', ' consequence', ' lucy', 'ok', ' pg', ' arrives', ' toilet', ' opened', ' perform', ' cube', ' sacrifice', ' chilling', ' timing', ' obnoxious', ' cynical', ' w', ' difficulty', ' albeit', ' horrific', ' investigation', ' frequently', ' plague', ' derek', ' bettie', ' authentic', ' combine', ' simpson', ' par', ' madness', ' advance', ' bitter', ' letting', ' musician', ' seeking', ' stylish', ' suffered', ' uncomfortable', ' neck', ' wealthy', ' thumb', ' status', ' wasting', ' intensity', ' ward', ' pride', ' adapted', ' dane', ' affect', ' cusack', ' split', ' persona', ' shark', ' nomination', ' lip', ' oddly', ' established', ' catholic', ' wwii', ' portion', ' beating', ' mine', ' sends', ' triumph', ' boll', ' internet', ' seagal', ' guide', ' response', ' strip', ' wolf', ' snow', ' hudson', ' happily', ' zone', ' britain', ' jaw', ' irony', ' aged', ' grey', ' ensemble', ' brand', ' overcome', ' connected', ' goofy', ' technically', ' matthau', ' motif', ' atmospheric', ' elvira', ' exercise', ' sentence', ' benefit', ' poignant', ' revolves', ' innocence', ' adding', ' dynamic', ' spike', ' neither', ' bush', ' east', ' elephant', ' height', ' diamond', ' torn', ' endearing', ' plastic', ' controversial', ' lovable', ' specific', ' somewhere', ' nut', ' tribute', ' pitch', ' curtis', ' pool', ' concert', ' four', ' dealt', ' develops', ' weakness', ' guessing', ' hip', ' authority', ' unforgettable', ' mindless', ' karloff', ' fortunately', ' mid', ' samurai', ' babe', ' idiotic', ' sings', ' wan', ' discussion', ' terrifying', ' infamous', ' threat', ' accepted', ' neat', ' lesser', ' baker', ' tour', ' busy', ' lloyd', ' nelson', ' gadget', ' disc', ' marvelous', ' chasing', ' perfection', ' greatly', ' ludicrous', ' estate', ' neighborhood', ' seems', ' hiding', ' miniseries', ' vincent', ' physically', ' courage', ' consists', ' imaginative', ' presentation', ' eg', ' k', ' enjoyment', ' oneliners', ' wound', ' installment', ' rebel', ' nurse', ' five', ' into', ' university', ' thug', ' min', ' vacation', ' dawn', ' throat', ' puppet', ' competent', ' suggests', ' walken', ' civil', ' prostitute', ' birthday', 'for', ' broke', ' silence', ' backdrop', ' helen', ' official', ' aired', ' annoyed', ' burning', ' meaningful', ' dear', ' liberal', ' factory', ' nobody', ' pointed', ' report', ' dinner', ' sally', ' ingredient', ' bette', ' korean', ' colorful', ' spielberg', ' notion', ' catherine', ' bakshi', ' noted', ' l', ' doc', ' duty', ' exceptional', ' jerk', ' notch', ' hoped', ' massacre', ' rushed', ' cliche', ' dorothy', ' countless', ' block', ' competition', ' kane', ' switch', ' prop', ' newspaper', ' instinct', ' belongs', ' racism', ' burton', ' butt', ' size', ' resident', ' gripping', ' pie', ' drawing', ' trite', ' succeed', ' companion', ' activity', ' spending', ' searching', ' weight', ' tied', ' checking', ' above', ' lying', ' chuck', ' bite', ' jesse', ' dawson', ' savage', ' reader', ' e', ' jet', ' ideal', ' brando', ' contract', ' stated', ' corrupt', ' closely', ' matthew', ' turner', ' scarecrow', ' moviethe', ' ritter', ' solve', ' editor', ' elvis', ' canada', ' itthe', ' shoulder', ' chain', ' charismatic', ' trade', ' believing', ' laid', ' mafia', ' striking', ' nail', ' secretary', ' nd', ' nonetheless', ' third', ' fx', ' parallel', ' heston', ' dubbing', ' garden', ' rocket', ' subtlety', ' troubled', ' aforementioned', ' blank', ' scheme', ' spin', ' superhero', ' lucas', ' montage', ' crack', ' slight', ' warn', ' between', ' expensive', ' fish', ' tremendous', ' celebrity', ' dropped', ' wannabe', ' denzel', ' oil', ' buried', ' miscast', ' planning', ' stood', ' gate', ' fighter', ' requires', ' jamie', ' redemption', ' cox', ' dragged', ' sexuality', ' mostly', ' nuclear', ' computer', ' discus', ' posse', ' eastwood', ' stiff', ' stink', ' cheese', ' glory', ' item', ' barry', ' servant', ' occurs', ' relevant', ' ripped', ' guilt', ' appearing', ' whether', ' practice', ' miracle', ' disagree', ' essence', ' sentimental', ' inevitable', ' felix', ' larger', ' picking', ' fitting', ' sophisticated', ' remark', ' shall', ' revealing', ' eva', ' button', ' press', ' grows', ' disease', ' godfather', ' presumably', ' performing', ' eerie', ' pig', ' outcome', ' mustsee', ' journalist', ' mildred', ' lay', ' pan', ' conspiracy', ' union', ' library', ' caricature', ' fay', ' sexually', ' convention', ' francisco', ' cardboard', ' charisma', ' evident', ' psychiatrist', ' impress', ' huh', ' defeat', ' quite', ' stronger', ' boredom', ' chaplin', ' territory', ' briefly', ' australia', ' modesty', ' vague', ' wondered', ' gothic', ' boot', ' overdone', ' reynolds', ' cia', ' tower', ' virus', ' similarity', ' acceptable', ' enters', ' rap', ' cole', ' luckily', ' profound', ' ian', ' identify', ' carefully', ' heat', ' kidnapped', 'spoiler', ' importance', ' crafted', ' stealing', ' opposed', ' flynn', ' unintentionally', ' surrounding', ' shy', ' joey', ' glover', ' unbelievably', ' bobby', ' manhattan', ' achieved', ' lifestyle', ' carter', ' homeless', ' website', ' spiritual', ' flop', ' bell', ' punk', ' typically', ' hype', ' wes', ' row', ' associated', ' overlooked', ' gentleman', ' struck', ' partly', ' intrigue', ' origin', ' wallace', ' invite', ' arrested', ' filmthe', ' destruction', ' packed', ' represents', ' hamilton', ' returning', ' importantly', ' icon', ' resolution', ' poverty', ' chill', ' pleased', ' accused', ' mitchell', ' fired', ' craven', ' easier', ' soviet', ' intent', ' dire', ' heroic', ' hooked', ' photographer', ' reduced', ' sketch', ' wicked', ' strictly', ' mel', ' pulling', ' instantly', ' rd', ' wreck', ' under', ' definite', ' surrounded', ' incoherent', ' kurt', ' empire', ' camerawork', ' bible', ' faced', ' frustration', ' sidekick', ' continued', ' spark', ' mstk', ' tap', ' pat', ' pushed', ' worthless', ' health', ' hunting', ' jeremy', ' transition', ' falk', ' monk', ' broadcast', ' gandhi', ' karen', ' curiosity', ' mild', ' accomplished', ' muslim', ' voight', ' forgive', ' offering', ' shelf', ' measure', ' settle', ' lacked', ' pound', ' increasingly', ' eighty', ' damage', ' realise', ' thus', ' flower', ' carol', ' skit', ' los', ' craft', ' overrated', ' jumping', ' spooky', ' rage', ' horrendous', ' futuristic', ' connect', ' insulting', ' slap', ' duo', ' cup', ' drunken', ' shake', ' restaurant', ' commit', ' ninja', ' remaining', ' bleak', ' boxing', ' transformation', ' eve', ' rochester', ' failing', ' affected', ' rid', ' link', ' thin', ' piano', ' em', ' brilliance', ' photographed', ' precious', ' chapter', ' walker', ' attached', ' reallife', ' exploit', ' helicopter', ' philosophy', ' trio', ' admire', ' lyric', ' iii', ' astaire', ' inspiring', ' hardcore', ' prevent', ' daring', ' attempted', ' choreography', ' repeatedly', ' smoke', ' ruth', ' flawless', ' spoiled', 'an', ' urge', ' tall', ' appalling', ' reached', ' donna', ' population', ' digital', ' logical', ' frustrated', ' popcorn', ' directorial', ' handful', ' gentle', ' tomato', ' soprano', ' ken', ' therefore', ' glenn', ' function', ' exaggerated', ' clown', ' allowing', ' ridiculously', ' pleasantly', ' alike', ' elderly', ' outrageous', ' pal', ' satan', ' overacting', ' seed', ' menacing', ' elaborate', ' grandmother', ' roman', ' dracula', ' distance', ' shining', ' iti', ' psychotic', ' peak', ' plant', ' sink', ' cave', ' innovative', ' ambitious', ' politician', ' explicit', ' ignored', ' craig', ' splendid', ' melodramatic', ' command', ' hitting', ' superbly', ' emily', ' producing', ' talked', ' explore', ' sadistic', ' reasonably', ' until', ' temple', ' fancy', ' reasonable', ' brosnan', ' timeless', ' resemblance', ' iron', ' g', ' cared', ' airplane', ' providing', ' occur', ' scripted', ' communist', ' tea', ' subplots', ' basement', ' ex', ' pulp', ' meat', ' further', ' fatal', ' margaret', ' stiller', ' fonda', ' hook', ' depression', ' cried', ' raped', ' policeman', ' harder', ' miserably', ' useless', ' hbo', ' closet', ' pit', ' arrive', ' notably', ' destiny', ' corpse', ' goldberg', ' argue', ' laurel', ' obscure', ' kirk', ' vicious', ' staff', ' exposed', ' currently', ' subsequent', ' stooge', ' verhoeven', ' hammer', ' darker', ' revolutionary', ' distant', ' miike', ' jealous', ' rambo', ' clothing', ' ranger', ' discovery', ' cameron', ' smooth', ' listed', ' proceeding', 'wow', ' kitchen', ' seventy', ' coincidence', ' colonel', ' davy', ' convoluted', ' generous', ' neil', ' highest', ' kapoor', ' operation', ' et', ' stumble', ' selling', ' nerd', ' norman', ' broad', ' abc', ' timothy', ' cheer', ' seller', ' sentiment', ' kennedy', ' lab', ' aimed', ' repetitive', ' brooklyn', ' homer', ' sole', ' brazil', ' showcase', ' lust', ' implausible', ' altman', ' polanski', ' cliff', ' uniform', ' threatening', ' ocean', ' kubrick', ' pass', ' mann', ' hal', ' widow', ' cruise', ' crush', ' bathroom', ' roommate', ' hartley', ' shootout', ' hysterical', ' admittedly', ' conventional', ' montana', ' kenneth', ' involvement', ' prize', ' coherent', ' dignity', ' engaged', ' selfish', ' receive', ' perry', ' complexity', ' tortured', ' adequate', ' funeral', ' wizard', ' greek', ' extended', ' smoking', ' solely', ' swear', ' symbolism', ' alltime', ' unintentional', ' panic', ' moron', ' saint', ' farm', ' troop', ' ironically', ' childish', ' loosely', ' returned', ' lemmon', ' relies', ' beaten', ' attracted', ' instant', ' sneak', ' nearby', ' cannibal', ' justify', ' uwe', ' alexander', ' worried', ' hatred', ' captivating', ' upper', ' shirt', ' biko', ' yesterday', ' bully', ' li', ' absence', ' annie', 'although', ' threw', ' minimal', ' olivier', ' menace', ' combat', ' stellar', ' investigate', ' macarthur', ' homosexual', ' regardless', ' promised', ' resembles', ' devoted', ' assassin', ' upon', ' drivel', ' farce', ' beatty', ' beyond', ' altogether', ' melting', ' celluloid', ' translation', ' valuable', ' ought', ' existed', ' holly', ' narrator', ' stole', ' staying', ' mixture', ' stinker', ' bull', ' favour', ' web', ' consistently', ' macy', ' tribe', ' odds', ' ego', ' explored', ' khan', ' aging', ' yard', ' album', ' non', ' react', ' disappear', ' warren', ' blob', ' ambition', ' metaphor', ' pushing', ' gradually', ' audio', ' clint', ' complain', ' swedish', ' cary', ' chuckle', ' guarantee', ' emphasis', ' distracting', ' horrid', ' purple', ' imagined', ' focusing', ' pro', ' kudos', ' topless', ' pressure', ' lock', ' robbery', ' fisher', ' campbell', ' sadness', ' phrase', ' berlin', ' unbearable', ' hart', ' lawrence', ' ellen', ' bedroom', ' realizing', ' awake', ' rick', ' murderous', ' unit', ' cheating', ' disjointed', ' slightest', ' guessed', ' occurred', ' carl', ' disturbed', ' stress', ' jenny', ' madonna', ' cuba', ' tonight', ' pirate', ' rendition', ' causing', ' comfortable', ' uneven', ' dutch', ' brady', ' shortly', ' titled', ' vivid', ' ginger', ' intrigued', ' bold', ' surfing', ' kicked', ' removed', ' fever', ' trademark', ' survival', ' snl', ' transfer', ' endure', ' suited', ' kidding', ' invasion', ' detailed', ' clumsy', ' march', ' timon', ' prom', ' composed', ' superficial', ' enjoys', 'while', ' antic', ' garbo', ' dimension', ' philosophical', ' senseless', ' tongue', ' heartwarming', ' devoid', ' square', ' ireland', ' reflection', ' improved', ' deliberately', ' characteristic', ' alcoholic', ' coach', ' moviei', ' carrey', ' wrestling', ' chaos', ' lily', ' thread', ' lol', ' burned', ' swim', ' orson', ' assault', ' escaped', ' involve', ' wet', ' sale', ' pun', ' blond', ' jeffrey', ' nod', ' option', ' burst', ' cagney', ' fade', ' mar', ' hollow', ' uninspired', ' pose', ' unpleasant', ' creep', ' nerve', 'you', ' palma', ' wandering', ' exchange', ' hopper', ' considerable', ' beneath', ' everywhere', ' outer', ' dating', ' solo', ' divorce', ' overwhelming', ' staged', ' sloppy', ' concerning', ' slug', ' handed', ' romero', ' primarily', ' whale', ' onscreen', ' myers', ' hung', ' bin', ' comfort', ' april', ' mickey', ' owen', ' specifically', ' maggie', ' teaching', ' mummy', ' cinematographer', ' grasp', ' defend', ' nicholson', ' lumet', ' goodness', ' royal', ' address', ' leonard', ' affection', ' harvey', ' claimed', ' blatant', ' solution', ' meaningless', ' rural', ' worm', ' tad', ' prejudice', ' mistaken', ' bare', ' linda', ' spare', ' artificial', ' used', ' mayor', ' afford', ' alternate', ' wrap', ' rabbit', ' nervous', ' versus', ' tame', ' headed', ' lighthearted', ' knight', ' blake', ' primary', ' commented', ' synopsis', ' dimensional', ' chest', ' smaller', ' bath', ' bang', ' ant', ' unfolds', ' ramones', ' candidate', ' undoubtedly', ' lena', ' principle', ' recording', ' rex', ' dedicated', ' describes', ' purchase', ' tool', ' shift', ' represent', ' arrogant', ' shirley', ' disappeared', ' blast', ' bottle', ' wont', ' unsettling', ' inventive', ' airport', ' excess', ' ballet', ' tender', ' shed', ' offended', ' lift', ' directs', ' consistent', ' ally', ' fulci', ' blew', ' hugh', ' saga', ' coffee', ' influenced', ' glorious', ' crocodile', ' wealth', ' angeles', ' housewife', ' liking', ' depicts', ' depressed', ' cg', ' resource', ' morality', ' aim', ' developing', ' tag', ' recorded', ' engage', ' recognized', ' cure', ' reel', ' forbidden', ' alert', ' deed', ' grandfather', ' blade', ' gimmick', ' delivering', ' honesty', ' corruption', ' cake', ' giallo', ' immigrant', ' closest', ' jumped', ' eyre', ' paulie', ' anywhere', ' unwatchable', ' spread', ' succeeded', 'just', ' tiger', ' potentially', ' judging', ' chess', ' sub', ' jazz', ' voiceover', ' explaining', ' maid', ' stare', ' shade', ' tube', ' agrees', ' possessed', ' exotic', ' riveting', ' useful', ' fix', ' choreographed', ' illness', ' richardson', ' isolated', ' improvement', ' traveling', ' june', ' passenger', ' banned', ' reaching', ' financial', ' imitation', ' amy', ' dud', ' blunt', ' tank', ' passionate', ' bonus', ' vast', ' godzilla', ' immensely', ' volume', ' oz', ' inane', ' colleague', ' madefortv', ' hitman', ' dealer', ' mistress', ' tiresome', ' responsibility', ' drake', ' phenomenon', ' composer', ' pursuit', ' civilization', ' trail', ' comparing', ' nonstop', ' politically', ' compelled', ' rapist', ' edgar', ' da', ' gap', ' unhappy', ' mutant', ' miserable', ' gray', ' juvenile', ' joined', ' downhill', ' elsewhere', ' severe', ' punishment', ' poetic', ' skull', ' harm', ' steel', ' biography', ' climb', ' yellow', ' stallone', ' global', ' adorable', 'oh', ' domino', ' scientific', ' sappy', ' scope', ' attorney', ' connery', ' frankenstein', ' sirk', ' abysmal', ' griffith', ' gabriel', ' resort', ' scottish', ' kingdom', ' fond', ' sibling', ' loyal', ' maniac', ' weakest', ' introduces', ' definition', ' amount', ' splatter', ' ethan', ' kyle', ' simplistic', ' corporate', ' stan', ' buffalo', ' generic', ' surviving', ' desperation', ' doomed', 'okay', ' diane', ' pretending', ' avoided', ' florida', ' sue', ' suitable', ' contrary', ' eccentric', ' planned', ' illogical', ' lengthy', ' ups', ' catchy', ' todd', ' embarrassment', ' satisfied', ' concentrate', ' riot', ' tends', ' abraham', ' sits', ' education', ' map', ' construction', ' hideous', ' bottom', ' incomprehensible', ' faster', ' behave', ' confrontation', ' cue', ' ratso', ' champion', ' grayson', ' wore', ' amanda', ' mario', ' soccer', 'how', ' capital', ' carell', ' moody', ' contained', ' virginia', ' barrymore', ' slick', ' novak', ' ignorant', ' basketball', ' farmer', 'not', ' willis', ' countryside', ' resist', ' similarly', ' sandra', ' trashy', ' emperor', ' franco', ' conservative', ' del', ' plight', ' onedimensional', ' rifle', ' willie', ' improve', ' pink', ' nostalgia', ' pearl', ' rope', ' latin', ' dave', ' hack', ' painted', ' rider', ' holy', ' reflect', ' swimming', ' rotten', ' logan', ' vengeance', ' jonathan', ' poetry', ' specie', ' online', ' reid', ' contest', ' excessive', ' psychic', ' convincingly', ' nostalgic', ' horrifying', ' sailor', ' writes', ' vulnerable', ' martian', ' rukh', ' lone', ' alongside', ' junior', ' heartbreaking', ' wendy', ' session', ' tail', ' wire', ' mall', ' cringe', ' spacey', ' palace', ' remarkably', ' scotland', ' shanghai', ' prequel', ' stilted', ' iran', ' randy', ' disappoint', ' farrell', ' porno', ' lasted', ' swing', ' disorder', ' several', ' facing', ' dont', ' safety', ' layer', ' elegant', ' reject', ' predecessor', ' confidence', ' elm', ' integrity', ' yelling', ' edition', ' proceeds', ' cheated', ' jew', ' robinson', ' museum', ' objective', ' leap', ' armed', ' edie', ' molly', ' tenant', ' humble', ' fuller', ' enterprise', ' calm', ' access', ' shaw', ' brenda', ' greed', ' feed', ' supported', ' streep', ' manipulative', ' belong', ' maintain', ' canyon', ' leon', ' wisdom', ' taught', ' misery', ' austen', ' wished', ' remove', ' ya', ' arrival', ' survived', ' mankind', ' expose', ' morris', ' eaten', ' masterful', ' displayed', ' ross', ' darren', ' phantom', ' lou', ' messed', ' liner', 'to', ' diana', ' tommy', ' questionable', ' bunny', ' sixty', ' household', ' abusive', ' closed', ' raymond', ' dalton', ' lit', ' anyways', ' tourist', ' cd', ' han', ' restored', ' rolled', ' spoke', ' unexpectedly', ' recognition', ' austin', ' ruthless', ' smiling', ' leo', ' foul', ' corporation', ' fury', ' property', ' arrived', ' fascinated', ' supply', ' thoughtful', ' stevens', ' widely', ' squad', ' overlook', ' sissy', ' represented', ' showdown', ' lately', ' cassidy', ' gather', ' descent', ' analysis', ' intentionally', ' challenging', ' der', ' exploration', ' purchased', ' testament', ' unreal', ' chicken', ' venture', ' championship', ' formulaic', ' frankie', ' sh', ' greedy', ' nonsensical', ' taxi', ' constructed', ' disguise', ' demise', ' lively', ' pot', ' depicting', ' nuance', ' defense', ' earned', ' rave', ' careful', ' cent', ' niro', ' filmi', ' springer', ' employee', ' ladder', ' businessman', ' literature', ' akshay', ' suspicious', ' vein', ' vice', ' judy', ' bud', ' agreed', ' retired', ' pause', ' due', ' gerard', ' september', ' furthermore', ' warmth', ' chorus', ' sunshine', ' straightforward', ' chicago', ' enthusiasm', ' paltrow', ' joel', ' classical', ' carradine', ' understandable', ' slip', ' stale', ' chased', ' uplifting', ' accompanied', ' ease', ' floating', ' mode', ' incompetent', ' jewel', ' visible', ' fooled', ' rising', ' kicking', ' slice', ' photograph', ' realm', ' deceased', ' valley', ' exposure', ' robbins', ' polished', ' lowest', ' bay', ' destroying', ' trained', ' likewise', ' wholly', ' israel', ' boxer', ' firm', ' stark', ' paxton', ' wounded', ' symbol', ' dysfunctional', ' stretched', ' nephew', ' recommendation', ' wrapped', ' among', ' observation', ' habit', ' conviction', ' minimum', ' raising', ' staring', ' gundam', ' equipment', ' centre', ' dub', ' region', ' spock', ' penn', ' secretly', 'let', ' henchman', ' alcohol', ' illegal', ' resemble', ' unaware', ' romp', ' myth', ' bumbling', ' attend', ' belushi', ' petty', ' moronic', ' trend', ' assumed', ' palance', ' landing', ' gal', ' cannon', ' stunned', ' basinger', ' complaining', ' hilariously', ' francis', ' eager', ' thunderbird', ' provoking', ' yell', ' distribution', ' frequent', ' stack', ' watson', ' hyde', ' reef', ' wishing', ' awe', ' bela', ' indication', ' duck', ' rerun', ' furious', ' co', ' bacall', ' absurdity', ' satisfy', ' walsh', ' waitress', ' wang', ' painter', ' amitabh', ' boast', ' marshall', ' pokemon', ' refused', ' atlantis', ' desired', ' package', ' astonishing', ' earl', ' advise', ' mighty', ' assigned', ' ham', ' capturing', ' twilight', ' victory', ' alison', ' fanatic', ' crystal', ' inferior', ' policy', ' boom', ' quarter', ' rita', ' quinn', ' boyle', ' damon', ' pierce', ' dust', ' coast', ' empathy', ' gear', ' ashley', ' marketing', ' technicolor', ' mtv', ' softcore', ' daddy', ' accuracy', ' mini', ' shelley', ' creativity', ' intimate', ' wacky', ' subjected', ' borrowed', ' outing', ' sid', ' eugene', ' orleans', ' widescreen', ' bridget', ' advertising', ' designer', ' stab', ' posey', ' significance', ' equivalent', ' monologue', ' scooby', ' conceived', ' tunnel', ' malone', ' crucial', ' tip', ' advanced', ' disliked', ' heartfelt', ' angela', ' kissing', ' spirited', ' institution', ' dreck', ' laughably', ' enormous', ' performs', ' fontaine', ' graham', ' than', ' soderbergh', ' claus', ' kumar', ' wouldbe', ' noone', ' despair', ' dee', ' mechanical', ' examination', ' simplicity', ' carrie', ' understated', ' require', ' betty', ' baddie', ' exceptionally', ' fist', ' front', ' inappropriate', ' suspend', ' plausible', ' unfair', ' racial', ' rubber', ' nyc', ' minority', ' gesture', ' cyborg', ' mundane', ' poem', ' acid', ' loyalty', ' fed', ' poison', ' across', ' irrelevant', ' leigh', ' grotesque', ' might', ' butler', ' document', ' fest', ' costar', ' loaded', ' stumbled', ' flair', ' frustrating', ' omen', ' inexplicably', ' pole', ' parade', ' chooses', ' ho', ' simultaneously', ' sensibility', ' raines', ' betrayal', ' pattern', ' referred', ' behaviour', ' charlotte', ' gillian', ' iraq', ' stalker', ' travesty', ' legal', ' contestant', ' discovering', ' receives', ' adolescent', ' signed', ' grip', ' interior', ' brutally', ' trait', ' trace', ' resulting', ' scratch', ' cope', ' clone', ' nun', ' ensues', ' wwe', ' cruelty', ' edgy', ' pant', ' tendency', ' popularity', ' reign', ' justin', ' andre', ' adopted', ' prank', ' rude', ' expedition', ' hopelessly', ' exposition', 'movie', ' doom', ' feminist', ' rhythm', ' charged', ' taboo', ' alternative', ' alley', ' spit', ' hawke', ' filling', ' deranged', ' uncut', ' frightened', ' dixon', ' shaky', ' fought', ' hackneyed', ' oldest', ' domestic', ' damme', ' muppet', ' newly', ' passage', ' dreary', ' blowing', ' antonioni', ' deaf', ' arguably', ' dose', ' vaguely', ' precisely', ' prepare', ' cleverly', ' counterpart', ' uma', ' introduce', ' pamela', ' atrocity', ' physic', ' vocal', ' greg', ' kitty', ' within', ' paramount', ' fashioned', ' whats', ' suggestion', ' rod', ' spain', ' cushing', ' inability', ' rely', ' sergeant', ' arc', ' astronaut', ' crawford', ' specially', ' educational', ' lois', ' preston', ' injury', ' screw', ' randomly', ' el', ' slide', ' slaughter', ' gender', ' roth', ' associate', ' fog', ' seldom', ' lean', ' historically', ' checked', ' hk', ' echo', ' inmate', ' wig', ' expressed', ' fascination', ' couch', ' im', ' obstacle', ' wilder', ' wellknown', ' appreciation', ' contribution', ' thompson', ' naughty', ' climactic', ' preposterous', ' karl', ' lackluster', ' patience', ' othello', ' whoever', ' buster', ' melody', ' stuart', ' surgery', ' agency', ' rooney', ' kay', ' wheel', ' bergman', ' ruby', ' invited', ' waited', ' mormon', ' disappears', ' imaginable', ' bread', ' youngest', ' terrified', ' yeti', ' debate', ' kurosawa', ' warming', ' demented', ' standout', ' mentioning', ' vulgar', ' primitive', ' genie', ' underneath', ' missile', ' tomorrow', ' conscience', ' additional', ' mm', ' rocky', ' bike', ' louise', ' julian', ' grief', ' hapless', ' candle', ' span', ' remained', ' daisy', ' relax', ' suggested', ' conveys', 'do', ' celebration', ' alfred', ' spinal', ' deniro', ' chop', ' aspiring', ' lampoon', ' collect', ' robber', ' accomplish', ' ambiguous', ' steele', ' variation', ' addict', ' shoddy', ' roof', ' coup', ' insurance', ' mccoy', ' pitiful', ' murdering', ' dump', ' handling', ' soup', ' reward', ' suffice', ' immediate', ' asylum', ' confess', ' russia', ' stake', ' q', ' promote', ' underlying', ' keith', ' dilemma', ' file', ' nicholas', ' braveheart', ' subpar', ' middleaged', ' mclaglen', ' passable', ' selection', ' fido', ' chainsaw', ' route', ' understands', ' amusement', ' greatness', ' awhile', ' reflects', ' drove', ' caliber', ' unpredictable', ' ingenious', ' credited', ' debt', ' witnessed', ' josh', ' fifty', ' positively', ' shield', ' entitled', ' agenda', ' corbett', ' minus', ' chamberlain', ' remade', ' hears', ' electric', ' peck', ' bernard', ' orange', ' hepburn', ' arab', ' phil', ' geek', ' flame', ' unoriginal', ' toronto', ' secondary', ' muppets', ' alicia', ' overlong', ' whoopi', ' sung', ' priceless', ' morally', ' receiving', ' esther', ' catching', ' newcomer', ' unlikable', ' unseen', ' premiere', ' anticipation', ' paradise', ' invented', ' minded', ' chavez', ' sabrina', ' circus', ' distinct', ' ninety', ' ordered', ' nicole', ' representation', ' tyler', ' deserted', ' dirt', ' ritual', ' phony', ' paranoia', ' edit', ' bean', ' explores', ' inconsistent', ' tierney', ' hopkins', ' nathan', ' ww', ' brutality', ' meryl', ' compassion', ' inhabitant', ' jess', ' dickens', ' six', ' experimental', ' fiancé', ' visited', ' cloud', ' vet', ' marty', ' dandy', ' richards', ' generated', ' labor', ' afterwards', ' pale', ' elevator', ' topnotch', ' abrupt', ' automatically', 'having', ' murray', ' gina', ' scorsese', ' pete', ' wilderness', ' vanity', ' belt', ' clerk', ' appropriately', ' quit', ' mentality', ' niece', ' ah', ' wellwritten', ' shout', ' quietly', ' amused', ' quaid', ' tooth', ' elite', ' sheet', ' wax', ' gable', ' phillip', ' composition', ' viewpoint', ' embrace', ' harold', ' guitar', ' forcing', ' framed', ' profession', ' ace', ' knocked', ' norm', ' milk', ' addicted', ' simmons', ' translated', ' defined', ' shortcoming', ' spade', ' headache', ' bikini', ' visitor', ' strongest', ' downey', ' marvel', ' puppy', ' convict', ' visiting', ' marine', ' campaign', ' silliness', ' lindsay', ' muddled', ' femme', ' sounding', ' bubble', ' hence', ' awfully', ' outline', 'so', ' bloom', ' threatens', ' swallow', ' respected', ' millionaire', ' smash', ' dana', ' milo', ' woo', ' salt', ' firing', ' mannerism', ' hokey', ' realised', ' presenting', ' replace', ' heel', ' baldwin', ' jacket', ' clarke', ' foxx', ' bow', ' cattle', ' spree', ' outdated', ' heist', ' chronicle', ' lush', ' predator', ' hopeless', ' transformed', ' liberty', ' active', ' voiced', ' dylan', ' newman', ' anton', ' sharon', ' alvin', ' bachelor', ' lester', ' suspension', ' laurence', ' secondly', ' wretched', ' compliment', ' hammy', ' inevitably', ' diehard', ' unfold', ' misleading', ' beatles', ' demonstrates', ' casual', ' commander', ' infected', ' psychopath', ' yawn', 'yes', ' diary', ' globe', ' meg', ' breed', ' brendan', ' eastern', ' tacky', ' wildly', ' studying', ' soso', ' reply', ' exterior', ' mathieu', ' profanity', ' delicate', ' cigarette', ' heading', ' penny', ' morbid', ' feelgood', ' tempted', ' encourage', ' mol', ' dj', ' capote', ' recycled', ' garner', ' respectively', ' mobster', ' mercy', ' bargain', ' haunt', ' redeem', ' entered', ' bend', ' admirable', ' bacon', ' gambling', ' posted', ' locale', ' hilarity', ' correctly', ' sympathize', ' unexplained', ' misfortune', ' abused', ' acceptance', ' bach', ' relentless', ' hughes', ' latter', ' election', ' disastrous', ' carla', ' boston', ' grudge', ' brit', ' preminger', ' poe', ' weather', ' acclaimed', ' matched', ' nor', ' regarded', ' iconic', ' info', ' swept', ' kungfu', ' literary', ' subtly', ' choppy', ' sci', ' anthology', ' glowing', ' fi', ' rejected', ' arrow', ' worn', ' claiming', 'why', ' befriends', ' evolution', ' carey', ' prey', ' natalie', ' egg', ' vital', ' glance', ' legacy', ' respective', ' rookie', ' newer', ' vader', ' lex', ' accurately', ' bros', ' bent', ' audition', ' zizek', ' bitch', ' chew', ' stair', ' alexandre', ' fishing', ' dismal', ' excellently', ' entering', ' tactic', ' guaranteed', ' iv', ' opponent', ' con', ' nemesis', ' christianity', ' scriptwriter', ' provocative', ' liu', ' depending', ' email', ' evelyn', ' minister', ' filth', ' tracking', ' corps', ' lifted', ' communicate', 'some', ' kline', ' redneck', ' gilliam', ' departure', ' kidman', ' containing', ' costars', ' loretta', ' watcher', ' rosemary', ' biased', ' stroke', ' duvall', ' phillips', ' irene', ' praised', ' addiction', ' obligatory', ' firmly', ' goldsworthy', ' nope', ' partially', ' mitchum', ' joker', ' triple', ' wanders', ' rampage', ' explosive', ' client', ' clan', ' forty', ' casino', ' drivein', ' investigating', ' jared', ' absent', ' barrel', ' obtain', ' pocket', ' accepts', ' slimy', ' decline', ' marion', ' thurman', ' prominent', ' puzzle', ' attract', ' controlled', ' flimsy', ' coat', ' dressing', ' shouting', ' crook', ' hayworth', ' ariel', ' weaker', ' hulk', ' shared', ' underworld', ' terry', ' cream', ' eternity', ' hadley', ' butcher', ' vibrant', ' unlikeable', ' christine', ' conrad', ' jealousy', ' virtue', ' truman', ' label', ' fluff', ' grainy', ' damaged', ' cassavetes', ' raj', ' messy', ' darn', ' fill', ' rear', ' sucker', ' lifeless', ' reminder', ' keen', ' found', ' protest', ' superstar', ' sander', ' eternal', ' invention', ' tasteless', ' timberlake', ' boob', ' refer', ' gamera', ' wrestler', ' voted', ' nicolas', ' thoughtprovoking', ' vance', ' reluctant', ' inspire', ' cap', ' steady', ' shorter', ' continually', ' perception', ' insipid', ' cliffhanger', ' dillinger', ' detract', ' blatantly', ' hippie', ' deleted', ' mitch', ' melissa', ' marries', ' bowl', ' suitably', ' miyazaki', ' curly', ' depends', ' drift', ' flashy', ' drum', ' critique', ' snap', ' severely', ' northern', ' inexplicable', ' historic', ' located', ' insists', ' welldone', ' ultimatum', ' kidnapping', ' predict', ' shopping', ' einstein', ' empty', ' psychology', ' describing', ' attenborough', ' coupled', ' highway', ' lundgren', ' commitment', ' sniper', ' publicity', ' glamorous', ' puerto', ' dolph', ' shred', ' sharing', ' europa', ' harriet', ' fluid', ' dame', 'with', ' commenting', ' giggle', ' incapable', ' rehash', ' historian', ' witchcraft', ' antwone', ' undead', ' poke', ' mermaid', ' satirical', ' racing', ' helpless', ' symbolic', ' shell', ' applaud', ' wtf', ' clueless', ' doo', ' huston', ' renaissance', ' tripe', ' banal', ' hallucination', ' radical', ' brooding', ' unrelated', ' din', ' cheek', ' ignorance', ' sorely', ' launch', ' communication', ' galaxy', ' tormented', ' alec', ' suspicion', ' insightful', ' vignette', ' riff', ' hooker', ' busey', ' hannah', ' aussie', ' breakdown', ' bulk', ' affleck', ' filler', ' kansa', ' claustrophobic', ' tax', ' freeze', ' wardrobe', ' sentinel', 'at', ' pc', ' carmen', ' standup', ' misguided', ' surround', ' wagner', ' pixar', ' preachy', ' loneliness', ' martha', ' serving', ' interestingly', ' farfetched', 'no', ' mesmerizing', ' stargate', ' completed', ' hop', ' akin', ' patricia', 'we', ' clash', ' casper', ' subway', ' ohara', ' clock', ' wander', ' marlon', ' mill', ' pacific', ' someday', ' wonderland', ' colin', ' defeated', ' evidently', ' audrey', ' considerably', ' expertly', ' emerge', ' dive', ' spider', ' demonic', ' sophie', ' carlito', ' tarantino', ' bimbo', ' senior', ' harmless', ' complication', ' wellmade', ' dwarf', ' ambiguity', ' tossed', ' entirety', ' crown', ' abandon', ' er', ' sunny', ' christy', ' feat', ' civilian', ' ethnic', ' screwed', ' emerges', ' compete', ' sand', ' trauma', ' vain', ' miami', ' dustin', ' expects', ' net', ' shaking', ' expense', ' deny', ' deserving', ' disgust', ' handheld', ' preparing', ' jordan', ' cohen', ' breakfast', ' stalking', ' distributor', ' polly', ' nolte', ' erika', ' shepard', ' camcorder', ' destined', ' scariest', ' vile', ' divine', ' vividly', ' warrant', ' salman', ' assassination', ' beverly', ' duel', ' hello', ' lennon', ' vanessa', ' convinces', ' article', ' copied', ' iranian', ' mortal', ' stalk', ' mama', ' lukas', ' artwork', ' forgiven', ' rendered', ' behold', ' programme', ' admirer', ' rooting', ' clara', ' limitation', ' uniformly', ' cemetery', ' cbs', ' ol', ' gere', ' trier', ' stella', ' rosario', ' mail', ' outright', ' enhanced', ' sublime', ' derivative', ' statue', ' rhyme', ' knightley', ' static', ' token', ' dudley', ' hippy', ' armstrong', ' repeating', ' kent', ' sooner', ' timmy', ' investigator', ' disgusted', ' engine', ' kazan', ' motive', ' burke', ' published', ' cape', ' industrial', ' sassy', ' billed', ' recruit', ' snuff', ' indiana', ' threatened', ' cow', ' gypsy', ' smell', ' rome', ' preferred', ' assuming', ' ustinov', ' flag', ' campus', ' cuban', ' sf', ' corman', ' devastating', ' differently', ' exit', ' chiba', ' israeli', ' resulted', ' eats', ' inherent', ' attacking', ' confident', ' injured', ' banter', ' decidedly', ' employ', ' ingrid', ' longest', ' neurotic', ' gifted', ' gained', ' jenna', ' moviegoer', ' sox', ' convicted', ' disabled', ' ritchie', ' artsy', ' signal', ' crippled', ' inaccuracy', ' sens', ' goodbye', ' outlaw', ' confession', ' jaded', ' netflix', ' cheat', ' mutual', ' tackle', ' disguised', ' inch', ' grinch', ' jedi', ' cain', ' goldblum', ' ronald', ' uh', ' collector', ' employed', ' proving', ' potter', ' respectable', ' cancer', ' novelty', ' bitten', ' stopping', ' feeding', ' harlow', ' prophecy', ' triangle', ' conveyed', ' undeniably', ' mixing', ' tremendously', ' godawful', ' feast', ' corridor', ' altered', ' conan', ' comprehend', ' glued', ' porter', ' beowulf', ' holocaust', ' sending', ' neatly', ' stranded', ' exquisite', ' cameraman', ' grass', ' spice', ' flavor', ' coward', ' charlton', ' bsg', ' unsatisfying', ' judged', ' tokyo', ' whore', ' basket', ' cheadle', ' thrilled', ' sol', ' justified', ' schlock', ' runner', 'another', ' traffic', ' resume', ' asia', ' naschy', ' firstly', ' sinking', ' soylent', ' stunningly', ' foil', ' franklin', ' zane', ' peril', ' paula', ' creasy', ' cleaning', ' sincerely', ' posing', ' bmovies', ' payoff', ' brat', ' sticking', ' biblical', ' guardian', ' confront', ' frontier', ' cypher', ' magician', ' landed', ' cracking', ' nolan', ' hostage', ' iq', ' mayhem', ' aided', ' cartoonish', ' abruptly', ' phase', ' goodlooking', ' warhol', ' facility', ' creek', ' letdown', ' discussing', ' exploring', ' stephanie', ' refers', ' counter', ' supporter', ' deliciously', ' organized', ' tolerable', ' pegg', ' danish', ' gibson', ' harrison', ' survives', ' zorro', ' distraction', ' reliable', ' id', ' judgment', ' ghetto', ' obsessive', ' geisha', ' boyer', ' formed', ' loy', ' participant', ' continuing', ' incidentally', ' cookie', ' christina', ' shepherd', ' flip', ' reiser', ' tire', ' korea', ' whom', ' kathryn', ' didnt', ' fart', ' pickup', ' trivia', ' moreover', ' crossing', ' chopped', ' identical', ' rapidly', ' chip', ' macabre', ' collaboration', ' choosing', ' terminator', ' scoop', ' rainy', ' proportion', ' sugar', ' cher', ' lens', ' sleaze', ' antonio', ' debbie', ' luis', ' depict', ' imo', ' horny', ' insect', ' backwards', ' crashing', ' profit', ' butch', ' cheaply', ' interact', ' arthouse', ' centered', ' instrument', ' spiderman', ' modest', ' warns', ' beg', ' definitive', ' playwright', ' nightclub', ' courtroom', ' youngster', ' curtain', ' peer', ' mechanic', ' popping', ' deputy', ' anytime', ' y', ' seymour', ' crosby', ' dread', ' valentine', ' despicable', ' energetic', ' masterson', ' demonstrate', ' itit', ' eventual', ' damned', ' anil', ' relentlessly', ' authenticity', ' anchor', ' promptly', ' intricate', ' wong', ' follower', ' beware', ' macho', ' jolie', ' assignment', ' remembering', ' alleged', ' demanding', ' pleasing', ' antagonist', ' challenged', ' gregory', ' insist', ' gallery', ' owned', ' answered', ' youtube', ' monty', ' graveyard', ' using', ' kolchak', ' lend', ' gannon', ' jury', ' implication', ' unsure', ' contempt', ' carnage', ' warden', ' gu', ' messing', ' sidewalk', ' delicious', ' plate', ' july', ' coffin', ' ollie', ' surfer', ' awakening', ' unsuspecting', ' buzz', ' transplant', ' baron', ' earn', ' growth', ' against', ' fried', ' earnest', ' homicide', ' lighter', ' jar', ' pickford', ' parson', ' escaping', ' scrooge', ' hearted', ' enthusiastic', ' recognizable', ' bounty', ' slater', ' severed', ' characterisation', ' offbeat', ' colman', ' resolve', ' samantha', ' masterfully', ' aesthetic', ' delightfully', ' referring', ' ricky', ' underwear', ' sentimentality', ' filthy', ' accessible', ' boris', ' cal', ' literal', ' immature', ' blandings', ' selected', ' dazzling', ' gig', ' improbable', ' giovanna', ' customer', ' jarring', ' chamber', ' melt', ' heavyhanded', ' adaption', ' fascist', ' jodie', ' playboy', ' turtle', ' lauren', ' sensible', ' muscle', ' jules', ' mabel', ' bachchan', ' colony', ' miranda', ' goof', ' amazon', ' cycle', ' jersey', ' strain', ' reeve', ' visconti', ' scarface', ' spectacle', ' wider', ' independence', ' vargas', ' destroys', ' odyssey', ' cerebral', ' pedestrian', ' wendigo', ' rumor', ' zombi', ' bogus', ' ranch', ' fragile', ' caretaker', ' arrest', ' landmark', ' switched', ' weave', ' intro', ' possession', ' midget', ' myrtle', ' longtime', ' asset', ' fruit', ' readily', ' lasting', ' tomei', ' chong', ' shore', ' bronson', ' duration', ' beetle', ' nina', ' internal', ' enhance', ' bauer', ' organization', ' btw', ' owes', ' stardom', ' voyager', ' suburban', ' kinnear', ' lunatic', ' immortal', ' rea', ' comb', ' orphan', ' meantime', ' spiral', ' wisely', ' bust', ' yep', ' indifferent', ' cecil', ' fright', ' fuel', ' laurie', ' exploding', ' vonnegut', ' explodes', ' rescued', ' pursue', ' fatale', ' begging', ' ensure', ' christie', ' hungry', ' rewrite', ' freaking', ' divorced', ' feinstone', ' starter', ' august', ' ny', ' outsider', ' crisp', ' cunningham', ' approaching', ' parking', ' owl', ' liam', ' fishburne', ' clay', ' shotgun', ' axe', ' gielgud', ' startling', ' endlessly', ' moe', ' pray', ' caron', ' skilled', ' paycheck', ' hugely', ' idol', ' inaccurate', ' tit', ' excruciatingly', ' juliet', ' restrained', ' mock', ' corey', ' thrust', ' glaring', 'saw', ' stating', ' obrien', ' bucket', ' bates', ' inspirational', ' overboard', ' columbia', ' judd', ' advertised', ' romeo', 'like', ' limb', ' youthful', ' fallon', ' stripper', ' canceled', ' pumbaa', ' sammo', ' mandy', ' repressed', ' settled', ' seedy', ' niven', ' whining', ' envy', ' turmoil', ' conclude', ' helpful', ' torment', 'despite', ' insert', ' hateful', ' fassbinder', ' psychologist', ' longing', ' void', ' saloon', ' ripping', ' reviewing', ' click', ' pfeiffer', ' longoria', ' elliott', ' legion', ' bondage', ' confronted', ' bruno', ' steer', ' ignores', ' incorrect', ' slam', ' platform', ' hines', ' stream', ' commentator', ' informed', ' serum', ' stabbed', ' en', ' implied', ' fellini', ' barbra', ' turd', ' narrow', ' collapse', ' exploited', ' tho', ' update', ' salesman', ' attending', ' repulsive', ' render', ' assured', ' absorbing', ' jacques', ' blaise', ' ceremony', ' loren', ' contributed', ' havoc', ' arguing', ' approached', ' ominous', ' python', ' mysteriously', ' dumped', ' phoenix', ' walt', ' warehouse', ' organ', ' quentin', ' dish', ' horrified', ' angst', ' miner', ' accepting', ' marc', ' controversy', ' cooking', ' gi', ' poet', ' grabbed', ' toss', ' enchanted', ' dropping', ' guinea', ' firstrate', ' razor', ' wiped', ' graduate', ' meyer', ' fastpaced', ' wine', 'from', ' fifth', ' exorcist', ' pad', ' classy', ' lavish', ' rounded', ' substitute', ' rambling', ' beckinsale', ' homosexuality', ' juice', ' sydney', ' toe', ' delighted', ' disgrace', ' meandering', ' resolved', ' seasoned', ' scarlet', ' vastly', ' pin', ' denis', ' polish', ' schedule', ' reviewed', ' rowlands', ' ultra', ' madsen', ' lure', ' herman', ' healthy', ' troma', ' herd', ' seductive', ' precode', ' updated', ' mobile', ' schneider', ' pairing', ' virtual', ' arkin', ' kells', ' insanity', ' lends', ' ordeal', ' goldie', ' lightning', ' harbor', ' abortion', ' imaginary', ' diner', ' noticeable', ' groundbreaking', ' astounding', ' unattractive', ' lowe', ' mythology', ' http', ' district', ' crazed', ' bleed', ' cedric', ' juliette', ' avoiding', ' rus', ' antihero', ' chore', ' liveaction', ' engrossing', ' luzhin', ' mason', ' grin', ' gypo', ' kristofferson', ' clive', ' suggesting', ' promoted', ' intentional', ' moss', ' brashear', ' unimaginative', ' evokes', ' vintage', ' stepmother', ' alliance', ' shelter', ' juan', ' postwar', ' aiming', ' aaron', ' foundation', ' spaghetti', ' grateful', ' taped', ' sylvia', ' separated', ' sought', ' conveniently', ' awareness', 'and', ' wash', ' demonstrated', ' transport', ' seduce', ' furniture', ' toni', ' deer', ' winchester', ' biopic', ' spaceship', ' deciding', ' whose', ' covering', ' acquired', ' shah', 'here', ' senator', ' dash', ' jill', ' ebert', ' macmurray', ' lunch', ' minion', ' verdict', ' bonanza', ' sundance', ' controlling', ' marilyn', ' haines', ' excruciating', ' experiencing', ' aftermath', ' dumbest', ' vince', ' stance', ' motorcycle', ' gershwin', ' nbc', ' realization', ' greene', ' doyle', ' whip', ' wright', ' hallmark', ' herring', ' runaway', ' dashing', ' comeback', ' frat', ' strict', ' sickening', ' diverse', ' indicate', ' lamb', ' distract', ' stylized', ' mum', ' diego', ' murky', ' celebrated', ' fleet', ' beckham', ' chemical', ' tara', ' believer', ' optimistic', ' isolation', ' forgetting', ' screwball', ' gathering', ' hackman', ' pow', ' casablanca', ' reverse', ' register', ' lama', ' surroundings', ' mick', ' classmate', ' bonnie', ' meal', ' ferrell', ' maureen', ' upcoming', ' psyche', ' gooding', 'all', ' underdeveloped', ' temptation', ' stalked', ' debra', ' obscurity', ' admitted', ' deanna', ' attended', ' arty', ' breathing', ' attribute', ' eyebrow', ' anita', ' croc', ' leather', ' increase', ' inclusion', ' gram', ' unsympathetic', ' misunderstood', ' stardust', ' quantum', ' temper', ' spencer', ' penelope', ' brent', ' marisa', ' likeable', ' foolish', ' drab', ' snipe', ' meadow', ' owns', ' elsa', ' deliberate', ' redford', ' waking', ' begun', ' parrot', ' cliched', ' scandal', ' stile', ' collective', ' ugh', ' sang', ' illusion', ' incest', ' establish', ' brainless', ' oldfashioned', ' define', ' daylight', ' roughly', ' hybrid', ' orchestra', ' begs', ' relevance', ' fuzzy', ' wellacted', ' republic', ' coburn', ' resistance', ' regularly', ' outlandish', ' lowkey', 'that', ' arquette', ' tide', ' lola', ' consideration', ' peculiar', ' collette', ' iturbi', ' sixth', ' sarandon', ' mamet', ' generate', ' consist', ' exhibit', ' fairbanks', ' gilbert', ' underwater', ' freaky', ' criticize', ' predictably', ' voyage', ' bittersweet', ' z', ' medieval', ' childlike', ' misunderstanding', ' afterward', 'watching', ' discussed', ' twenty', ' xfiles', ' sg', ' noteworthy', ' vibe', ' neglected', ' hug', ' filmography', ' errol', ' contribute', ' realistically', ' determination', ' lizard', ' inconsistency', ' educated', ' therapy', ' martino', ' verge', ' venom', ' homicidal', ' agony', ' innuendo', ' phantasm', ' feeble', ' fund', ' archive', ' trooper', ' raider', ' below', ' ma', ' sarcasm', ' arranged', ' horn', ' phenomenal', ' lecture', ' madman', ' glow', ' legitimate', ' pursued', ' offscreen', ' followup', ' africanamerican', ' cody', ' reflected', ' sweden', ' remembers', ' assure', ' convent', ' county', ' mccarthy', ' garfield', ' steam', ' constraint', ' unnatural', ' bodyguard', ' wheelchair', ' fortunate', ' assembled', ' anyhow', ' targeted', ' fundamental', ' coke', ' heap', ' replacement', ' alot', ' adore', ' distress', ' apple', ' boundary', ' jagger', 'very', ' redundant', ' battlestar', ' robertson', ' rant', ' captive', ' massey', ' collins', ' boogeyman', ' shockingly', ' immense', ' dramatically', ' grandma', ' faint', ' goodman', ' eagerly', ' jock', ' october', ' bernsen', ' galactica', ' economic', ' stadium', ' division', ' manipulation', ' necessity'])\n"
     ]
    }
   ],
   "source": [
    "import random \n",
    "\n",
    "# random_word = random.choice(model.wv.key_to_index.keys())\n",
    "# print(random_word)\n",
    "keys_vocab = model.wv.key_to_index.keys()\n",
    "print((keys_vocab))\n"
   ]
  },
  {
   "cell_type": "code",
   "execution_count": 174,
   "id": "7a896d1a",
   "metadata": {
    "scrolled": true
   },
   "outputs": [
    {
     "name": "stdout",
     "output_type": "stream",
     "text": [
      "6494\n"
     ]
    }
   ],
   "source": [
    "vocab_len = len(model.wv) \n",
    "print(vocab_len)"
   ]
  },
  {
   "cell_type": "code",
   "execution_count": 188,
   "id": "636e80c9",
   "metadata": {
    "scrolled": true
   },
   "outputs": [
    {
     "data": {
      "text/plain": [
       "[(' advertising', 0.7932116985321045),\n",
       " (' flop', 0.7623361349105835),\n",
       " (' contract', 0.7442678213119507),\n",
       " (' commercial', 0.7282575964927673),\n",
       " (' paramount', 0.6930709481239319),\n",
       " (' industry', 0.6881189942359924),\n",
       " (' signed', 0.6800347566604614),\n",
       " (' threw', 0.6775798797607422),\n",
       " (' premiere', 0.6659148335456848),\n",
       " (' press', 0.6644194722175598)]"
      ]
     },
     "execution_count": 188,
     "metadata": {},
     "output_type": "execute_result"
    }
   ],
   "source": [
    "model.wv.most_similar(' publicity')"
   ]
  },
  {
   "cell_type": "code",
   "execution_count": 193,
   "id": "0cd9440c",
   "metadata": {},
   "outputs": [],
   "source": [
    "normed_vector = model.wv.get_vector(\" manipulation\", norm=True) "
   ]
  }
 ],
 "metadata": {
  "kernelspec": {
   "display_name": "Python 3 (ipykernel)",
   "language": "python",
   "name": "python3"
  },
  "language_info": {
   "codemirror_mode": {
    "name": "ipython",
    "version": 3
   },
   "file_extension": ".py",
   "mimetype": "text/x-python",
   "name": "python",
   "nbconvert_exporter": "python",
   "pygments_lexer": "ipython3",
   "version": "3.9.13"
  }
 },
 "nbformat": 4,
 "nbformat_minor": 5
}
